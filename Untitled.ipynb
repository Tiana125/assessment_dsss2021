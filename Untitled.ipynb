{
 "cells": [
  {
   "cell_type": "code",
   "execution_count": null,
   "metadata": {},
   "outputs": [],
   "source": []
  },
  {
   "cell_type": "markdown",
   "metadata": {},
   "source": [
    "# res\n",
    "<a id='another_cell'></a>"
   ]
  },
  {
   "cell_type": "code",
   "execution_count": 21,
   "metadata": {},
   "outputs": [],
   "source": [
    "import pandas as pd\n",
    "\n",
    "from sklearn.preprocessing import LabelEncoder\n",
    "from sklearn.feature_extraction import DictVectorizer"
   ]
  },
  {
   "cell_type": "code",
   "execution_count": 2,
   "metadata": {},
   "outputs": [],
   "source": [
    "data = pd.read_csv(\"https://raw.githubusercontent.com/Tiana125/assessment_dsss2021/main/telecom_users.csv\",\n",
    "                  low_memory = False)"
   ]
  },
  {
   "cell_type": "code",
   "execution_count": 6,
   "metadata": {},
   "outputs": [
    {
     "name": "stdout",
     "output_type": "stream",
     "text": [
      "<class 'pandas.core.frame.DataFrame'>\n",
      "RangeIndex: 5986 entries, 0 to 5985\n",
      "Data columns (total 20 columns):\n",
      " #   Column            Non-Null Count  Dtype  \n",
      "---  ------            --------------  -----  \n",
      " 0   gender            5986 non-null   object \n",
      " 1   SeniorCitizen     5986 non-null   int64  \n",
      " 2   Partner           5986 non-null   object \n",
      " 3   Dependents        5986 non-null   object \n",
      " 4   tenure            5986 non-null   int64  \n",
      " 5   PhoneService      5986 non-null   object \n",
      " 6   MultipleLines     5986 non-null   object \n",
      " 7   InternetService   5986 non-null   object \n",
      " 8   OnlineSecurity    5986 non-null   object \n",
      " 9   OnlineBackup      5986 non-null   object \n",
      " 10  DeviceProtection  5986 non-null   object \n",
      " 11  TechSupport       5986 non-null   object \n",
      " 12  StreamingTV       5986 non-null   object \n",
      " 13  StreamingMovies   5986 non-null   object \n",
      " 14  Contract          5986 non-null   object \n",
      " 15  PaperlessBilling  5986 non-null   object \n",
      " 16  PaymentMethod     5986 non-null   object \n",
      " 17  MonthlyCharges    5986 non-null   float64\n",
      " 18  TotalCharges      5986 non-null   object \n",
      " 19  Churn             5986 non-null   object \n",
      "dtypes: float64(1), int64(2), object(17)\n",
      "memory usage: 935.4+ KB\n"
     ]
    }
   ],
   "source": [
    "data.info()"
   ]
  },
  {
   "cell_type": "code",
   "execution_count": 4,
   "metadata": {},
   "outputs": [],
   "source": [
    "data = data.drop([\"Unnamed: 0\", \"customerID\"], axis = 1)"
   ]
  },
  {
   "cell_type": "code",
   "execution_count": 8,
   "metadata": {},
   "outputs": [],
   "source": [
    "cat_columns = ['gender', 'SeniorCitizen', 'Partner', 'Dependents',\n",
    "       'PhoneService', 'MultipleLines', 'InternetService', 'OnlineSecurity',\n",
    "       'OnlineBackup', 'DeviceProtection', 'TechSupport', 'StreamingTV',\n",
    "       'StreamingMovies', 'Contract', 'PaperlessBilling', 'PaymentMethod',\n",
    "       'Churn']\n",
    "num_columns = ['TotalCharges','MonthlyCharges','tenure']\n"
   ]
  },
  {
   "cell_type": "code",
   "execution_count": 13,
   "metadata": {},
   "outputs": [
    {
     "name": "stdout",
     "output_type": "stream",
     "text": [
      "Column name: gender\n",
      "Unique vlaues: ['Male' 'Female']\n",
      "Min values: Female\n",
      "value counts: Male      50.952222\n",
      "Female    49.047778\n",
      "Name: gender, dtype: float64\n",
      "\n",
      " \n",
      "Column name: SeniorCitizen\n",
      "Unique vlaues: [0 1]\n",
      "Min values: 0\n",
      "value counts: 0    83.862345\n",
      "1    16.137655\n",
      "Name: SeniorCitizen, dtype: float64\n",
      "\n",
      " \n",
      "Column name: Partner\n",
      "Unique vlaues: ['Yes' 'No']\n",
      "Min values: No\n",
      "value counts: No     51.486803\n",
      "Yes    48.513197\n",
      "Name: Partner, dtype: float64\n",
      "\n",
      " \n",
      "Column name: Dependents\n",
      "Unique vlaues: ['Yes' 'No']\n",
      "Min values: No\n",
      "value counts: No     70.080187\n",
      "Yes    29.919813\n",
      "Name: Dependents, dtype: float64\n",
      "\n",
      " \n",
      "Column name: PhoneService\n",
      "Unique vlaues: ['Yes' 'No']\n",
      "Min values: No\n",
      "value counts: Yes    90.143669\n",
      "No      9.856331\n",
      "Name: PhoneService, dtype: float64\n",
      "\n",
      " \n",
      "Column name: MultipleLines\n",
      "Unique vlaues: ['Yes' 'No' 'No phone service']\n",
      "Min values: No\n",
      "value counts: No                  47.577681\n",
      "Yes                 42.565987\n",
      "No phone service     9.856331\n",
      "Name: MultipleLines, dtype: float64\n",
      "\n",
      " \n",
      "Column name: InternetService\n",
      "Unique vlaues: ['No' 'Fiber optic' 'DSL']\n",
      "Min values: DSL\n",
      "value counts: Fiber optic    43.885733\n",
      "DSL            34.547277\n",
      "No             21.566990\n",
      "Name: InternetService, dtype: float64\n",
      "\n",
      " \n",
      "Column name: OnlineSecurity\n",
      "Unique vlaues: ['No internet service' 'No' 'Yes']\n",
      "Min values: No\n",
      "value counts: No                     49.816238\n",
      "Yes                    28.616772\n",
      "No internet service    21.566990\n",
      "Name: OnlineSecurity, dtype: float64\n",
      "\n",
      " \n",
      "Column name: OnlineBackup\n",
      "Unique vlaues: ['No internet service' 'Yes' 'No']\n",
      "Min values: No\n",
      "value counts: No                     43.518209\n",
      "Yes                    34.914801\n",
      "No internet service    21.566990\n",
      "Name: OnlineBackup, dtype: float64\n",
      "\n",
      " \n",
      "Column name: DeviceProtection\n",
      "Unique vlaues: ['No internet service' 'Yes' 'No']\n",
      "Min values: No\n",
      "value counts: No                     44.102907\n",
      "Yes                    34.330104\n",
      "No internet service    21.566990\n",
      "Name: DeviceProtection, dtype: float64\n",
      "\n",
      " \n",
      "Column name: TechSupport\n",
      "Unique vlaues: ['No internet service' 'No' 'Yes']\n",
      "Min values: No\n",
      "value counts: No                     49.448714\n",
      "Yes                    28.984297\n",
      "No internet service    21.566990\n",
      "Name: TechSupport, dtype: float64\n",
      "\n",
      " \n",
      "Column name: StreamingTV\n",
      "Unique vlaues: ['No internet service' 'Yes' 'No']\n",
      "Min values: No\n",
      "value counts: No                     39.909790\n",
      "Yes                    38.523221\n",
      "No internet service    21.566990\n",
      "Name: StreamingTV, dtype: float64\n",
      "\n",
      " \n",
      "Column name: StreamingMovies\n",
      "Unique vlaues: ['No internet service' 'No' 'Yes']\n",
      "Min values: No\n",
      "value counts: No                     39.358503\n",
      "Yes                    39.074507\n",
      "No internet service    21.566990\n",
      "Name: StreamingMovies, dtype: float64\n",
      "\n",
      " \n",
      "Column name: Contract\n",
      "Unique vlaues: ['Two year' 'Month-to-month' 'One year']\n",
      "Min values: Month-to-month\n",
      "value counts: Month-to-month    54.610758\n",
      "Two year          24.072837\n",
      "One year          21.316405\n",
      "Name: Contract, dtype: float64\n",
      "\n",
      " \n",
      "Column name: PaperlessBilling\n",
      "Unique vlaues: ['No' 'Yes']\n",
      "Min values: No\n",
      "value counts: Yes    58.937521\n",
      "No     41.062479\n",
      "Name: PaperlessBilling, dtype: float64\n",
      "\n",
      " \n",
      "Column name: PaymentMethod\n",
      "Unique vlaues: ['Credit card (automatic)' 'Bank transfer (automatic)' 'Electronic check'\n",
      " 'Mailed check']\n",
      "Min values: Bank transfer (automatic)\n",
      "value counts: Electronic check             33.511527\n",
      "Mailed check                 22.870030\n",
      "Bank transfer (automatic)    21.850986\n",
      "Credit card (automatic)      21.767457\n",
      "Name: PaymentMethod, dtype: float64\n",
      "\n",
      " \n",
      "Column name: Churn\n",
      "Unique vlaues: ['No' 'Yes']\n",
      "Min values: No\n",
      "value counts: No     73.488139\n",
      "Yes    26.511861\n",
      "Name: Churn, dtype: float64\n",
      "\n",
      " \n"
     ]
    }
   ],
   "source": [
    "for i in data[cat_columns].columns:\n",
    "    \n",
    "    print('Column name:',i)\n",
    "    print('Unique values:',data[i].unique())\n",
    "    print('Min values:',data[i].min())\n",
    "    print('value counts:',data[i].value_counts(1)*100)\n",
    "    print('\\n ')"
   ]
  },
  {
   "cell_type": "code",
   "execution_count": 15,
   "metadata": {},
   "outputs": [
    {
     "name": "stdout",
     "output_type": "stream",
     "text": [
      "Column name: TotalCharges\n",
      "max vlaues: 999.9\n",
      "Min values:  \n",
      "\n",
      " \n",
      "Column name: MonthlyCharges\n",
      "max vlaues: 118.75\n",
      "Min values: 18.25\n",
      "\n",
      " \n",
      "Column name: tenure\n",
      "max vlaues: 72\n",
      "Min values: 0\n",
      "\n",
      " \n"
     ]
    }
   ],
   "source": [
    "for i in data[num_columns].columns:\n",
    "    print('Column name:',i)\n",
    "    print('max values:',data[i].max())\n",
    "    print('Min values:',data[i].min())\n",
    "    print('\\n ')"
   ]
  },
  {
   "cell_type": "code",
   "execution_count": 29,
   "metadata": {},
   "outputs": [],
   "source": [
    "# replace empty space with median\n",
    "\n",
    "data = data[data.TotalCharges != \" \"]\n",
    "data.TotalCharges = data.TotalCharges.astype(\"float\")"
   ]
  },
  {
   "cell_type": "code",
   "execution_count": null,
   "metadata": {},
   "outputs": [],
   "source": []
  },
  {
   "cell_type": "code",
   "execution_count": null,
   "metadata": {},
   "outputs": [],
   "source": []
  },
  {
   "cell_type": "code",
   "execution_count": null,
   "metadata": {},
   "outputs": [],
   "source": []
  },
  {
   "cell_type": "code",
   "execution_count": null,
   "metadata": {},
   "outputs": [],
   "source": []
  },
  {
   "cell_type": "code",
   "execution_count": 19,
   "metadata": {},
   "outputs": [],
   "source": [
    "churn = data.Churn\n",
    "data = data.drop(\"Churn\", axis = 1)"
   ]
  },
  {
   "cell_type": "code",
   "execution_count": 23,
   "metadata": {},
   "outputs": [],
   "source": [
    "le = LabelEncoder() # creates the LabelEncoder object\n",
    "le.fit(['Yes', 'No']) # explicitly encode '<=50k' and '>50k' with 0 and 1, respectively\n",
    "label_y = le.transform(churn) # runs LabelEncoder on the over50k column"
   ]
  },
  {
   "cell_type": "code",
   "execution_count": 30,
   "metadata": {},
   "outputs": [
    {
     "data": {
      "text/plain": [
       "['Contract=Month-to-month',\n",
       " 'Contract=One year',\n",
       " 'Contract=Two year',\n",
       " 'Dependents=No',\n",
       " 'Dependents=Yes',\n",
       " 'DeviceProtection=No',\n",
       " 'DeviceProtection=No internet service',\n",
       " 'DeviceProtection=Yes',\n",
       " 'InternetService=DSL',\n",
       " 'InternetService=Fiber optic',\n",
       " 'InternetService=No',\n",
       " 'MonthlyCharges',\n",
       " 'MultipleLines=No',\n",
       " 'MultipleLines=No phone service',\n",
       " 'MultipleLines=Yes',\n",
       " 'OnlineBackup=No',\n",
       " 'OnlineBackup=No internet service',\n",
       " 'OnlineBackup=Yes',\n",
       " 'OnlineSecurity=No',\n",
       " 'OnlineSecurity=No internet service',\n",
       " 'OnlineSecurity=Yes',\n",
       " 'PaperlessBilling=No',\n",
       " 'PaperlessBilling=Yes',\n",
       " 'Partner=No',\n",
       " 'Partner=Yes',\n",
       " 'PaymentMethod=Bank transfer (automatic)',\n",
       " 'PaymentMethod=Credit card (automatic)',\n",
       " 'PaymentMethod=Electronic check',\n",
       " 'PaymentMethod=Mailed check',\n",
       " 'PhoneService=No',\n",
       " 'PhoneService=Yes',\n",
       " 'SeniorCitizen',\n",
       " 'StreamingMovies=No',\n",
       " 'StreamingMovies=No internet service',\n",
       " 'StreamingMovies=Yes',\n",
       " 'StreamingTV=No',\n",
       " 'StreamingTV=No internet service',\n",
       " 'StreamingTV=Yes',\n",
       " 'TechSupport=No',\n",
       " 'TechSupport=No internet service',\n",
       " 'TechSupport=Yes',\n",
       " 'TotalCharges',\n",
       " 'gender=Female',\n",
       " 'gender=Male',\n",
       " 'tenure']"
      ]
     },
     "execution_count": 30,
     "metadata": {},
     "output_type": "execute_result"
    }
   ],
   "source": [
    "data_dict = data.to_dict('records')\n",
    "#####\n",
    "\n",
    "vec = DictVectorizer()  # create the DictVectorizer object\n",
    "vec_array = vec.fit_transform(data_dict).toarray()  \n",
    "# execute process on the record dictionaries and transform the result into a numpy array objec\n",
    "\n",
    "vec.get_feature_names()"
   ]
  },
  {
   "cell_type": "markdown",
   "metadata": {},
   "source": [
    "[Link to the destination](#another_cell)"
   ]
  },
  {
   "cell_type": "code",
   "execution_count": null,
   "metadata": {},
   "outputs": [],
   "source": []
  },
  {
   "cell_type": "code",
   "execution_count": null,
   "metadata": {},
   "outputs": [],
   "source": []
  },
  {
   "cell_type": "code",
   "execution_count": null,
   "metadata": {},
   "outputs": [],
   "source": []
  },
  {
   "cell_type": "code",
   "execution_count": null,
   "metadata": {},
   "outputs": [],
   "source": []
  },
  {
   "cell_type": "code",
   "execution_count": null,
   "metadata": {},
   "outputs": [],
   "source": []
  },
  {
   "cell_type": "code",
   "execution_count": null,
   "metadata": {},
   "outputs": [],
   "source": []
  }
 ],
 "metadata": {
  "kernelspec": {
   "display_name": "Python 3",
   "language": "python",
   "name": "python3"
  },
  "language_info": {
   "codemirror_mode": {
    "name": "ipython",
    "version": 3
   },
   "file_extension": ".py",
   "mimetype": "text/x-python",
   "name": "python",
   "nbconvert_exporter": "python",
   "pygments_lexer": "ipython3",
   "version": "3.7.8"
  }
 },
 "nbformat": 4,
 "nbformat_minor": 4
}
