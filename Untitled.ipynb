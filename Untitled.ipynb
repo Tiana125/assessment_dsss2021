{
 "cells": [
  {
   "cell_type": "code",
   "execution_count": null,
   "metadata": {},
   "outputs": [],
   "source": []
  },
  {
   "cell_type": "markdown",
   "metadata": {},
   "source": [
    "# Research Question:\n",
    "# Is it possible to predict a customer's churn based on their services they are using in the telecom business?\n",
    "\n",
    "<a id='another_cell'></a>"
   ]
  },
  {
   "cell_type": "markdown",
   "metadata": {},
   "source": [
    "## Introduction\n",
    "\n",
    "Berson et al defined the term \"customer churn\" as the customer's movement from one provider to another in the wireless telecom service industry. With an increasing trend of emerging providers in the telecommunication industry, the companies tend to keeping their existing clients rather than attracting new clients constantly for more long term profit(D. V. Poel and B. Larivi). Therefore, investigating the reasons to and measures to reduce churn is key to the survival of many telecom organisations. This analysis focuses on the former. It illustrates the relationship of the services provided to the customers and whether they churned. Speicifically, it uses a series of binary classification techniques\n",
    "\n",
    "\n",
    "\n",
    "?? to find a best model of predictive churn from data warehouse to prevent the customers turnover, further to enhance the competitive edge.\n",
    "\n",
    "The rest of this analysis is structured as follows:\n",
    "\n",
    "\n",
    "\n",
    "\n",
    "\n",
    "\n",
    "\n"
   ]
  },
  {
   "cell_type": "markdown",
   "metadata": {},
   "source": [
    "## Literature Review\n",
    "\n"
   ]
  },
  {
   "cell_type": "markdown",
   "metadata": {},
   "source": []
  },
  {
   "cell_type": "markdown",
   "metadata": {},
   "source": []
  },
  {
   "cell_type": "markdown",
   "metadata": {},
   "source": [
    "this will include data validation and cleaning, \n",
    "\n",
    "a data pre-processing phase (e.g. text, image, clustering analysis), \n",
    "\n",
    "and comprehensive analysis (including relevant visualisations) of the data, identifying important trends and insights contained within the dataset. "
   ]
  },
  {
   "cell_type": "markdown",
   "metadata": {},
   "source": []
  },
  {
   "cell_type": "markdown",
   "metadata": {},
   "source": [
    "### Data preprocessing\n",
    "#### Overview"
   ]
  },
  {
   "cell_type": "markdown",
   "metadata": {},
   "source": [
    "This dataset is originally from a telecommunications company, which was sourced from Kaggle. It contains information about the customers' demographic characteristics and the services they use, etc. \n",
    "\n",
    "The metadata is listed below:\n",
    "\n",
    "|Column Name | Desription | Data Type|\n",
    "|:--:|:--:|:--:|\n",
    "|customerID | customer id| integer (numerical) |\n",
    "|gender | client gender (male / female) | boolean (categorical)|\n",
    "|SeniorCitizen | is the client retired (1, 0) |boolean (categorical)|\n",
    "|Partner | is the client married (Yes, No)|boolean (categorical)|\n",
    "|tenure| how many months a person has been a client of the company|integer (numerical) |\n",
    "|PhoneService | is the telephone service connected (Yes, No)|boolean (categorical)|\n",
    "|MultipleLines | are multiple phone lines connected (Yes, No, No phone service)|categorical|\n",
    "|InternetService | client's Internet service provider (DSL, Fiber optic, No)|categorical|\n",
    "|OnlineSecurity | is the online security service connected (Yes, No, No internet service)|categorical|\n",
    "|OnlineBackup | is the online backup service activated (Yes, No, No internet service)|categorical|\n",
    "|DeviceProtection | does the client have equipment insurance (Yes, No, No internet service)|categorical|\n",
    "|TechSupport | is the technical support service connected (Yes, No, No internet service)|categorical|\n",
    "|StreamingTV | is the streaming TV service connected (Yes, No, No internet service)|categorical|\n",
    "|StreamingMovies | is the streaming cinema service activated (Yes, No, No internet service)|categorical|\n",
    "|Contract | type of customer contract (Month-to-month, One year, Two year)|categorical|\n",
    "|PaperlessBilling | whether the client uses paperless billing (Yes, No)|boolean (categorical)|\n",
    "|PaymentMethod | payment method (Electronic check, Mailed check, Bank transfer (automatic), Credit card (automatic))|categorical|\n",
    "|MonthlyCharges | current monthly payment | float (numerical) |\n",
    "|TotalCharges | the total amount that the client paid for the services for the entire time | float (numerical) |\n",
    "|Churn| whether there was a churn (Yes or No)|boolean (categorical)|"
   ]
  },
  {
   "cell_type": "code",
   "execution_count": 49,
   "metadata": {},
   "outputs": [],
   "source": [
    "#data preprocessing packages\n",
    "import pandas as pd\n",
    "import seaborn as sns # for easier plotting\n",
    "import matplotlib.pyplot as plt # for plotting\n",
    "%matplotlib inline\n",
    "from sklearn.preprocessing import LabelEncoder\n",
    "from sklearn.feature_extraction import DictVectorizer\n",
    "from sklearn.model_selection import train_test_split\n",
    "\n",
    "# classification packages\n",
    "from sklearn.neighbors import KNeighborsClassifier\n",
    "from sklearn import metrics\n",
    "\n"
   ]
  },
  {
   "cell_type": "code",
   "execution_count": 2,
   "metadata": {},
   "outputs": [],
   "source": [
    "data = pd.read_csv(\"https://raw.githubusercontent.com/Tiana125/assessment_dsss2021/main/telecom_users.csv\",\n",
    "                  low_memory = False)"
   ]
  },
  {
   "cell_type": "code",
   "execution_count": 3,
   "metadata": {},
   "outputs": [
    {
     "name": "stdout",
     "output_type": "stream",
     "text": [
      "<class 'pandas.core.frame.DataFrame'>\n",
      "RangeIndex: 5986 entries, 0 to 5985\n",
      "Data columns (total 22 columns):\n",
      " #   Column            Non-Null Count  Dtype  \n",
      "---  ------            --------------  -----  \n",
      " 0   Unnamed: 0        5986 non-null   int64  \n",
      " 1   customerID        5986 non-null   object \n",
      " 2   gender            5986 non-null   object \n",
      " 3   SeniorCitizen     5986 non-null   int64  \n",
      " 4   Partner           5986 non-null   object \n",
      " 5   Dependents        5986 non-null   object \n",
      " 6   tenure            5986 non-null   int64  \n",
      " 7   PhoneService      5986 non-null   object \n",
      " 8   MultipleLines     5986 non-null   object \n",
      " 9   InternetService   5986 non-null   object \n",
      " 10  OnlineSecurity    5986 non-null   object \n",
      " 11  OnlineBackup      5986 non-null   object \n",
      " 12  DeviceProtection  5986 non-null   object \n",
      " 13  TechSupport       5986 non-null   object \n",
      " 14  StreamingTV       5986 non-null   object \n",
      " 15  StreamingMovies   5986 non-null   object \n",
      " 16  Contract          5986 non-null   object \n",
      " 17  PaperlessBilling  5986 non-null   object \n",
      " 18  PaymentMethod     5986 non-null   object \n",
      " 19  MonthlyCharges    5986 non-null   float64\n",
      " 20  TotalCharges      5986 non-null   object \n",
      " 21  Churn             5986 non-null   object \n",
      "dtypes: float64(1), int64(3), object(18)\n",
      "memory usage: 1.0+ MB\n"
     ]
    },
    {
     "data": {
      "text/plain": [
       "(5986, 22)"
      ]
     },
     "execution_count": 3,
     "metadata": {},
     "output_type": "execute_result"
    }
   ],
   "source": [
    "data.info()\n",
    "data.shape"
   ]
  },
  {
   "cell_type": "markdown",
   "metadata": {},
   "source": [
    "|Types of data|Number of data columns|\n",
    "|:--:|:--:|\n",
    "|Boolean|5|\n",
    "|Numerical|4|\n",
    "|Categorical (excluding Boolean)|13|\n",
    "\n",
    "Dimensions/ shape: (5986, 22)"
   ]
  },
  {
   "cell_type": "code",
   "execution_count": 24,
   "metadata": {},
   "outputs": [
    {
     "name": "stderr",
     "output_type": "stream",
     "text": [
      "/opt/conda/envs/sds2020/lib/python3.7/site-packages/seaborn/_decorators.py:43: FutureWarning: Pass the following variable as a keyword arg: x. From version 0.12, the only valid positional argument will be `data`, and passing other arguments without an explicit keyword will result in an error or misinterpretation.\n",
      "  FutureWarning\n",
      "/opt/conda/envs/sds2020/lib/python3.7/site-packages/seaborn/_decorators.py:43: FutureWarning: Pass the following variable as a keyword arg: x. From version 0.12, the only valid positional argument will be `data`, and passing other arguments without an explicit keyword will result in an error or misinterpretation.\n",
      "  FutureWarning\n",
      "/opt/conda/envs/sds2020/lib/python3.7/site-packages/seaborn/_decorators.py:43: FutureWarning: Pass the following variable as a keyword arg: x. From version 0.12, the only valid positional argument will be `data`, and passing other arguments without an explicit keyword will result in an error or misinterpretation.\n",
      "  FutureWarning\n",
      "/opt/conda/envs/sds2020/lib/python3.7/site-packages/seaborn/_decorators.py:43: FutureWarning: Pass the following variable as a keyword arg: x. From version 0.12, the only valid positional argument will be `data`, and passing other arguments without an explicit keyword will result in an error or misinterpretation.\n",
      "  FutureWarning\n"
     ]
    },
    {
     "data": {
      "text/plain": [
       "5976"
      ]
     },
     "execution_count": 24,
     "metadata": {},
     "output_type": "execute_result"
    },
    {
     "data": {
      "image/png": "[encoded data removed]",
      "text/plain": [
       "<Figure size 1440x720 with 4 Axes>"
      ]
     },
     "metadata": {
      "needs_background": "light"
     },
     "output_type": "display_data"
    }
   ],
   "source": [
    "fig, axes = plt.subplots(ncols = 4, figsize=(20,10))\n",
    "\n",
    "sns.countplot(data[\"gender\"], ax=axes[0])\n",
    "sns.countplot(data[\"SeniorCitizen\"], ax=axes[1])\n",
    "sns.countplot(data[\"Partner\"], ax=axes[2])\n",
    "sns.countplot(data[\"Dependents\"], ax=axes[3])"
   ]
  },
  {
   "cell_type": "markdown",
   "metadata": {},
   "source": [
    "__Demographic of users__\n",
    "\n",
    "- The genders of users and whether they have partners are roughly evenly distributed.\n",
    "- Less than 20% of users are senior citizens. \n",
    "- More users do not have dependents. "
   ]
  },
  {
   "cell_type": "code",
   "execution_count": 20,
   "metadata": {},
   "outputs": [
    {
     "data": {
      "text/plain": [
       "<AxesSubplot:xlabel='tenure', ylabel='Count'>"
      ]
     },
     "execution_count": 20,
     "metadata": {},
     "output_type": "execute_result"
    },
    {
     "data": {
      "image/png": "[encoded data removed]",
      "text/plain": [
       "<Figure size 432x288 with 1 Axes>"
      ]
     },
     "metadata": {
      "needs_background": "light"
     },
     "output_type": "display_data"
    }
   ],
   "source": [
    "sns.histplot(x=\"tenure\",data=data,kde=False)"
   ]
  },
  {
   "cell_type": "markdown",
   "metadata": {},
   "source": [
    "There are more users who have been using the services for over 70 months and even more new users."
   ]
  },
  {
   "cell_type": "code",
   "execution_count": 32,
   "metadata": {},
   "outputs": [
    {
     "name": "stderr",
     "output_type": "stream",
     "text": [
      "/opt/conda/envs/sds2020/lib/python3.7/site-packages/seaborn/_decorators.py:43: FutureWarning: Pass the following variable as a keyword arg: x. From version 0.12, the only valid positional argument will be `data`, and passing other arguments without an explicit keyword will result in an error or misinterpretation.\n",
      "  FutureWarning\n",
      "/opt/conda/envs/sds2020/lib/python3.7/site-packages/seaborn/_decorators.py:43: FutureWarning: Pass the following variable as a keyword arg: x. From version 0.12, the only valid positional argument will be `data`, and passing other arguments without an explicit keyword will result in an error or misinterpretation.\n",
      "  FutureWarning\n",
      "/opt/conda/envs/sds2020/lib/python3.7/site-packages/seaborn/_decorators.py:43: FutureWarning: Pass the following variable as a keyword arg: x. From version 0.12, the only valid positional argument will be `data`, and passing other arguments without an explicit keyword will result in an error or misinterpretation.\n",
      "  FutureWarning\n",
      "/opt/conda/envs/sds2020/lib/python3.7/site-packages/seaborn/_decorators.py:43: FutureWarning: Pass the following variable as a keyword arg: x. From version 0.12, the only valid positional argument will be `data`, and passing other arguments without an explicit keyword will result in an error or misinterpretation.\n",
      "  FutureWarning\n",
      "/opt/conda/envs/sds2020/lib/python3.7/site-packages/seaborn/_decorators.py:43: FutureWarning: Pass the following variable as a keyword arg: x. From version 0.12, the only valid positional argument will be `data`, and passing other arguments without an explicit keyword will result in an error or misinterpretation.\n",
      "  FutureWarning\n",
      "/opt/conda/envs/sds2020/lib/python3.7/site-packages/seaborn/_decorators.py:43: FutureWarning: Pass the following variable as a keyword arg: x. From version 0.12, the only valid positional argument will be `data`, and passing other arguments without an explicit keyword will result in an error or misinterpretation.\n",
      "  FutureWarning\n",
      "/opt/conda/envs/sds2020/lib/python3.7/site-packages/seaborn/_decorators.py:43: FutureWarning: Pass the following variable as a keyword arg: x. From version 0.12, the only valid positional argument will be `data`, and passing other arguments without an explicit keyword will result in an error or misinterpretation.\n",
      "  FutureWarning\n",
      "/opt/conda/envs/sds2020/lib/python3.7/site-packages/seaborn/_decorators.py:43: FutureWarning: Pass the following variable as a keyword arg: x. From version 0.12, the only valid positional argument will be `data`, and passing other arguments without an explicit keyword will result in an error or misinterpretation.\n",
      "  FutureWarning\n"
     ]
    },
    {
     "data": {
      "text/plain": [
       "<AxesSubplot:xlabel='StreamingMovies', ylabel='count'>"
      ]
     },
     "execution_count": 32,
     "metadata": {},
     "output_type": "execute_result"
    },
    {
     "data": {
      "image/png": "[encoded data removed]",
      "text/plain": [
       "<Figure size 1440x720 with 4 Axes>"
      ]
     },
     "metadata": {
      "needs_background": "light"
     },
     "output_type": "display_data"
    },
    {
     "data": {
      "image/png": "[encoded data removed]",
      "text/plain": [
       "<Figure size 1440x720 with 4 Axes>"
      ]
     },
     "metadata": {
      "needs_background": "light"
     },
     "output_type": "display_data"
    }
   ],
   "source": [
    "fig, axes = plt.subplots(ncols = 4, figsize=(20,10))\n",
    "\n",
    "sns.countplot(data[\"PhoneService\"], ax=axes[0])\n",
    "sns.countplot(data[\"MultipleLines\"], ax=axes[1])\n",
    "sns.countplot(data[\"OnlineSecurity\"], ax=axes[2])\n",
    "sns.countplot(data[\"OnlineBackup\"], ax=axes[3])\n",
    "\n",
    "fig, axes = plt.subplots(ncols = 4, figsize=(20,10))\n",
    "\n",
    "sns.countplot(data[\"DeviceProtection\"], ax=axes[0])\n",
    "sns.countplot(data[\"TechSupport\"], ax=axes[1])\n",
    "sns.countplot(data[\"StreamingTV\"], ax=axes[2])\n",
    "sns.countplot(data[\"StreamingMovies\"], ax=axes[3])\n",
    "\n",
    "#  16  Contract          5986 non-null   object \n",
    "#  17  PaperlessBilling  5986 non-null   object \n",
    "#  18  PaymentMethod     5986 non-null   object \n",
    "#  19  MonthlyCharges    5986 non-null   float64\n",
    "#  20  TotalCharges      5986 non-null   object \n",
    "#  21  Churn             5986 non-null   object "
   ]
  },
  {
   "cell_type": "markdown",
   "metadata": {},
   "source": [
    "__Services of users__\n",
    "\n",
    "- The most popular service is phone service, over 90% users use this service.\n",
    "- The second most popular service is multiple lines.\n",
    "\n",
    "- Some services, including online backup, device protection, streaming TV and movies have small discrepancy between the number of users and non-users.  "
   ]
  },
  {
   "cell_type": "markdown",
   "metadata": {},
   "source": [
    "#### Removing unnecessary columns\n",
    "After an overview of the data, the columns are consistent with the metadata. Some unnecessary columns are removed. "
   ]
  },
  {
   "cell_type": "code",
   "execution_count": 4,
   "metadata": {},
   "outputs": [],
   "source": [
    "# drop columns that are irreleant to analysis\n",
    "data = data.drop([\"Unnamed: 0\", \"customerID\"], axis = 1)"
   ]
  },
  {
   "cell_type": "markdown",
   "metadata": {},
   "source": [
    "#### Identifying missing, empty or incorrect values"
   ]
  },
  {
   "cell_type": "markdown",
   "metadata": {},
   "source": [
    "There are no missing value in the data as the number of entries are the same throughout all columns. However, the possibility of empty value cannot be ruled out. Additionally, categorical and numerical data requires different treatment and identification techiques. \n"
   ]
  },
  {
   "cell_type": "code",
   "execution_count": 5,
   "metadata": {},
   "outputs": [],
   "source": [
    "# separating the different types of columns\n",
    "categorical_columns = ['gender', 'SeniorCitizen', 'Partner', 'Dependents',\n",
    "       'PhoneService', 'MultipleLines', 'InternetService', 'OnlineSecurity',\n",
    "       'OnlineBackup', 'DeviceProtection', 'TechSupport', 'StreamingTV',\n",
    "       'StreamingMovies', 'Contract', 'PaperlessBilling', 'PaymentMethod',\n",
    "       'Churn']\n",
    "numerical_columns = ['TotalCharges','MonthlyCharges','tenure']\n"
   ]
  },
  {
   "cell_type": "code",
   "execution_count": 6,
   "metadata": {},
   "outputs": [
    {
     "name": "stdout",
     "output_type": "stream",
     "text": [
      "Column name: gender\n",
      "Unique values: ['Male' 'Female']\n",
      "\n",
      " \n",
      "Column name: SeniorCitizen\n",
      "Unique values: [0 1]\n",
      "\n",
      " \n",
      "Column name: Partner\n",
      "Unique values: ['Yes' 'No']\n",
      "\n",
      " \n",
      "Column name: Dependents\n",
      "Unique values: ['Yes' 'No']\n",
      "\n",
      " \n",
      "Column name: PhoneService\n",
      "Unique values: ['Yes' 'No']\n",
      "\n",
      " \n",
      "Column name: MultipleLines\n",
      "Unique values: ['Yes' 'No' 'No phone service']\n",
      "\n",
      " \n",
      "Column name: InternetService\n",
      "Unique values: ['No' 'Fiber optic' 'DSL']\n",
      "\n",
      " \n",
      "Column name: OnlineSecurity\n",
      "Unique values: ['No internet service' 'No' 'Yes']\n",
      "\n",
      " \n",
      "Column name: OnlineBackup\n",
      "Unique values: ['No internet service' 'Yes' 'No']\n",
      "\n",
      " \n",
      "Column name: DeviceProtection\n",
      "Unique values: ['No internet service' 'Yes' 'No']\n",
      "\n",
      " \n",
      "Column name: TechSupport\n",
      "Unique values: ['No internet service' 'No' 'Yes']\n",
      "\n",
      " \n",
      "Column name: StreamingTV\n",
      "Unique values: ['No internet service' 'Yes' 'No']\n",
      "\n",
      " \n",
      "Column name: StreamingMovies\n",
      "Unique values: ['No internet service' 'No' 'Yes']\n",
      "\n",
      " \n",
      "Column name: Contract\n",
      "Unique values: ['Two year' 'Month-to-month' 'One year']\n",
      "\n",
      " \n",
      "Column name: PaperlessBilling\n",
      "Unique values: ['No' 'Yes']\n",
      "\n",
      " \n",
      "Column name: PaymentMethod\n",
      "Unique values: ['Credit card (automatic)' 'Bank transfer (automatic)' 'Electronic check'\n",
      " 'Mailed check']\n",
      "\n",
      " \n",
      "Column name: Churn\n",
      "Unique values: ['No' 'Yes']\n",
      "\n",
      " \n"
     ]
    }
   ],
   "source": [
    "# listing the unique values of categorical data columns\n",
    "for i in data[categorical_columns].columns:\n",
    "    print('Column name:',i)\n",
    "    print('Unique values:',data[i].unique())\n",
    "    print('\\n ')"
   ]
  },
  {
   "cell_type": "code",
   "execution_count": 7,
   "metadata": {},
   "outputs": [
    {
     "name": "stdout",
     "output_type": "stream",
     "text": [
      "Column name: TotalCharges\n",
      "max values: 999.9\n",
      "Min values:  \n",
      "\n",
      " \n",
      "Column name: MonthlyCharges\n",
      "max values: 118.75\n",
      "Min values: 18.25\n",
      "\n",
      " \n",
      "Column name: tenure\n",
      "max values: 72\n",
      "Min values: 0\n",
      "\n",
      " \n"
     ]
    }
   ],
   "source": [
    "# listing the maximum and minimum values of numerical data columns\n",
    "for i in data[numerical_columns].columns:\n",
    "    print('Column name:',i)\n",
    "    print('max values:',data[i].max())\n",
    "    print('Min values:',data[i].min())\n",
    "    print('\\n ')"
   ]
  },
  {
   "cell_type": "markdown",
   "metadata": {},
   "source": [
    "Empty data is identified in the numerical \"TotalCharges\" column, the whole row is removed if there is an empty entry. In addition, in the `data.info()` output, the data type of \"TotalCharges\" is not consistent with the metadata, this will also be corrected. "
   ]
  },
  {
   "cell_type": "code",
   "execution_count": 8,
   "metadata": {},
   "outputs": [
    {
     "data": {
      "text/plain": [
       "(5976, 20)"
      ]
     },
     "execution_count": 8,
     "metadata": {},
     "output_type": "execute_result"
    }
   ],
   "source": [
    "# remove rows with empty space and see difference\n",
    "\n",
    "data = data[data.TotalCharges != \" \"]\n",
    "data.TotalCharges = data.TotalCharges.astype(float)\n",
    "data.shape"
   ]
  },
  {
   "cell_type": "markdown",
   "metadata": {},
   "source": [
    "Ten rows were removed, which is not a significant amount compared to the whole dataset."
   ]
  },
  {
   "cell_type": "markdown",
   "metadata": {},
   "source": [
    "#### Separating dependent and independent variables"
   ]
  },
  {
   "cell_type": "code",
   "execution_count": 9,
   "metadata": {},
   "outputs": [],
   "source": [
    "churn = data.Churn\n",
    "data = data.drop(\"Churn\", axis = 1)"
   ]
  },
  {
   "cell_type": "markdown",
   "metadata": {},
   "source": [
    "In addition to separating the variables, categorical values need to be treated (transformed to numerical data). \n",
    "\n",
    "For the response variable, `LabelEncoder` is used rather than `pandas.get_dummies` because it conserves space and the order of integers do not have to be meaningful as churn only has two outputs (unlike regression problems where the order of integers implies incremental influence). \n",
    "\n",
    "For the independent variables, `DictVectorizer` is used to convert feature arrays represented as lists of  dictionaries. Specifically, the flag “record” is used in `to_dict` for converting them to arrays of dictionaries, where one dictionary corresponds to one data entry. This is essential because to obtain a list of feature names ordered by their indices as well as converting categorical values to numericals, an array of dictionaries(feature-value mappings) must be fed to`DictVectorizer`."
   ]
  },
  {
   "cell_type": "code",
   "execution_count": 10,
   "metadata": {},
   "outputs": [],
   "source": [
    "le = LabelEncoder() # creates the LabelEncoder object\n",
    "le.fit(['No', 'Yes']) # explicitly encode 'Yes' and  'No' with 1 and 0, respectively\n",
    "label_y = le.transform(churn) # runs LabelEncoder on the churn column"
   ]
  },
  {
   "cell_type": "code",
   "execution_count": 11,
   "metadata": {},
   "outputs": [
    {
     "data": {
      "text/plain": [
       "['Contract=Month-to-month',\n",
       " 'Contract=One year',\n",
       " 'Contract=Two year',\n",
       " 'Dependents=No',\n",
       " 'Dependents=Yes',\n",
       " 'DeviceProtection=No',\n",
       " 'DeviceProtection=No internet service',\n",
       " 'DeviceProtection=Yes',\n",
       " 'InternetService=DSL',\n",
       " 'InternetService=Fiber optic',\n",
       " 'InternetService=No',\n",
       " 'MonthlyCharges',\n",
       " 'MultipleLines=No',\n",
       " 'MultipleLines=No phone service',\n",
       " 'MultipleLines=Yes',\n",
       " 'OnlineBackup=No',\n",
       " 'OnlineBackup=No internet service',\n",
       " 'OnlineBackup=Yes',\n",
       " 'OnlineSecurity=No',\n",
       " 'OnlineSecurity=No internet service',\n",
       " 'OnlineSecurity=Yes',\n",
       " 'PaperlessBilling=No',\n",
       " 'PaperlessBilling=Yes',\n",
       " 'Partner=No',\n",
       " 'Partner=Yes',\n",
       " 'PaymentMethod=Bank transfer (automatic)',\n",
       " 'PaymentMethod=Credit card (automatic)',\n",
       " 'PaymentMethod=Electronic check',\n",
       " 'PaymentMethod=Mailed check',\n",
       " 'PhoneService=No',\n",
       " 'PhoneService=Yes',\n",
       " 'SeniorCitizen',\n",
       " 'StreamingMovies=No',\n",
       " 'StreamingMovies=No internet service',\n",
       " 'StreamingMovies=Yes',\n",
       " 'StreamingTV=No',\n",
       " 'StreamingTV=No internet service',\n",
       " 'StreamingTV=Yes',\n",
       " 'TechSupport=No',\n",
       " 'TechSupport=No internet service',\n",
       " 'TechSupport=Yes',\n",
       " 'TotalCharges',\n",
       " 'gender=Female',\n",
       " 'gender=Male',\n",
       " 'tenure']"
      ]
     },
     "execution_count": 11,
     "metadata": {},
     "output_type": "execute_result"
    }
   ],
   "source": [
    "data_dict = data.to_dict('records')\n",
    "\n",
    "vec = DictVectorizer()  # create the DictVectorizer object\n",
    "vec_array = vec.fit_transform(data_dict).toarray()  \n",
    "# execute process on the record dictionaries and transform the result into a numpy array objec\n",
    "\n",
    "vec.get_feature_names()"
   ]
  },
  {
   "cell_type": "markdown",
   "metadata": {},
   "source": [
    "#### Spiltting into training and testing set"
   ]
  },
  {
   "cell_type": "code",
   "execution_count": 12,
   "metadata": {},
   "outputs": [
    {
     "data": {
      "text/plain": [
       "(4482, 1494, 4482, 1494)"
      ]
     },
     "execution_count": 12,
     "metadata": {},
     "output_type": "execute_result"
    }
   ],
   "source": [
    "train_d, test_d, train_lab, test_lab = train_test_split(vec_array, churn)\n",
    "len(train_d),len(test_d),len(train_lab),len(test_lab)"
   ]
  },
  {
   "cell_type": "markdown",
   "metadata": {},
   "source": [
    "The training and testing split is a 75/25 ratio. "
   ]
  },
  {
   "cell_type": "markdown",
   "metadata": {},
   "source": [
    "[Link to the destination](#another_cell)"
   ]
  },
  {
   "cell_type": "markdown",
   "metadata": {},
   "source": [
    "### Data Analytics\n",
    "\n",
    "It is a binary classification problem to predict the customer churn using a series of attributes. In this analysis, \n",
    "\n",
    "classification methods are used:\n",
    "\n",
    "- k-Nearest Neighbour\n",
    "-\n",
    "\n",
    "\n",
    "#### k-Nearest Neighbour Classification\n",
    "A simple method which classifies data points based on their proximity. "
   ]
  },
  {
   "cell_type": "code",
   "execution_count": 42,
   "metadata": {},
   "outputs": [
    {
     "name": "stdout",
     "output_type": "stream",
     "text": [
      "0.7710843373493976\n",
      "0.7684069611780455\n",
      "0.7637215528781793\n",
      "0.7677376171352075\n",
      "0.7630522088353414\n",
      "0.7623828647925034\n",
      "0.7583668005354752\n",
      "0.7570281124497992\n",
      "0.7336010709504686\n"
     ]
    }
   ],
   "source": [
    "# parameter tuning for knn\n",
    "knn_k = [10,50,60,70,100,150,200,500,1000]\n",
    "\n",
    "for i in knn_k:\n",
    "    knn = KNeighborsClassifier(n_neighbors=i)  # creates the kNN classifier, setting it to check the 60 neighbouring points\n",
    "    knn.fit(train_d, train_lab)  # executes the classifier on the training dataset\n",
    "    print(knn.score(test_d, test_lab) )"
   ]
  },
  {
   "cell_type": "markdown",
   "metadata": {},
   "source": [
    "The accuracy of KNN is around 76%. One should look for a k value that maximises the accuracy without being too small. A tiny k value would result in over-fitting to each small cluster, which would often lead to a low performance. Thus the knn's paramter is selected to be 100 and its accuracy is about 76.3%."
   ]
  },
  {
   "cell_type": "code",
   "execution_count": 48,
   "metadata": {},
   "outputs": [
    {
     "data": {
      "image/png": "[encoded data removed]",
      "text/plain": [
       "<Figure size 288x288 with 2 Axes>"
      ]
     },
     "metadata": {
      "needs_background": "light"
     },
     "output_type": "display_data"
    }
   ],
   "source": [
    "# Now the selected k is used to classify data. \n",
    "knn = KNeighborsClassifier(n_neighbors=100)\n",
    "knn.fit(train_d, train_lab)\n",
    "predictions = knn.predict(test_d) # make predictions\n",
    "confusion_matrix = metrics.confusion_matrix(test_lab, predictions) # fit confusion matrix\n",
    "plt.matshow(confusion_matrix) #show confusion matrix\n",
    "plt.title('Confusion matrix')\n",
    "plt.colorbar()\n",
    "plt.ylabel('True label')\n",
    "plt.xlabel('Predicted label')\n",
    "plt.show()"
   ]
  },
  {
   "cell_type": "code",
   "execution_count": 50,
   "metadata": {},
   "outputs": [
    {
     "name": "stdout",
     "output_type": "stream",
     "text": [
      "Classification results: \n",
      "              precision    recall  f1-score   support\n",
      "\n",
      "          No       0.78      0.95      0.86      1096\n",
      "         Yes       0.65      0.24      0.35       398\n",
      "\n",
      "    accuracy                           0.76      1494\n",
      "   macro avg       0.71      0.60      0.60      1494\n",
      "weighted avg       0.74      0.76      0.72      1494\n",
      "\n"
     ]
    }
   ],
   "source": [
    "print(\"Classification results: \")\n",
    "print(metrics.classification_report(test_lab, predictions))"
   ]
  },
  {
   "cell_type": "markdown",
   "metadata": {},
   "source": [
    "__Performance of KNN__\n",
    "The overall accuracy(regardless of classes) is well, however, the recall of \"Yes\" is only 0.24, meaning only 24% of customer churn is correctly identified. This is more important than the overall accuaracy because identifying and reducing the customer churn is the key to this research question and increasing corporate revenue. "
   ]
  },
  {
   "cell_type": "markdown",
   "metadata": {},
   "source": []
  },
  {
   "cell_type": "markdown",
   "metadata": {},
   "source": []
  },
  {
   "cell_type": "code",
   "execution_count": null,
   "metadata": {},
   "outputs": [],
   "source": []
  },
  {
   "cell_type": "code",
   "execution_count": 13,
   "metadata": {},
   "outputs": [
    {
     "ename": "NameError",
     "evalue": "name 'knn' is not defined",
     "output_type": "error",
     "traceback": [
      "\u001b[0;31m---------------------------------------------------------------------------\u001b[0m",
      "\u001b[0;31mNameError\u001b[0m                                 Traceback (most recent call last)",
      "\u001b[0;32m<ipython-input-13-96842f764c72>\u001b[0m in \u001b[0;36m<module>\u001b[0;34m\u001b[0m\n\u001b[0;32m----> 1\u001b[0;31m \u001b[0mknn\u001b[0m\u001b[0;34m,\u001b[0m \u001b[0msvm\u001b[0m\u001b[0;34m\u001b[0m\u001b[0;34m\u001b[0m\u001b[0m\n\u001b[0m",
      "\u001b[0;31mNameError\u001b[0m: name 'knn' is not defined"
     ]
    }
   ],
   "source": [
    "knn, svm"
   ]
  },
  {
   "cell_type": "code",
   "execution_count": null,
   "metadata": {},
   "outputs": [],
   "source": []
  },
  {
   "cell_type": "code",
   "execution_count": null,
   "metadata": {},
   "outputs": [],
   "source": []
  },
  {
   "cell_type": "code",
   "execution_count": null,
   "metadata": {},
   "outputs": [],
   "source": []
  },
  {
   "cell_type": "code",
   "execution_count": null,
   "metadata": {},
   "outputs": [],
   "source": []
  },
  {
   "cell_type": "code",
   "execution_count": null,
   "metadata": {},
   "outputs": [],
   "source": []
  },
  {
   "cell_type": "code",
   "execution_count": null,
   "metadata": {},
   "outputs": [],
   "source": []
  },
  {
   "cell_type": "markdown",
   "metadata": {},
   "source": [
    "[1] \n",
    "D. V. Poel and B. Larivi, \"Customer attrition analysis for financial services using proportional hazard models\", European Journal of Operational Research, vol. 157, no. 1, pp. 196-217, 2004.\n",
    "towards expansion of the subscriber base\n",
    "\n",
    "[2]\n",
    "A. Berson, S. Smith, K. Thearling. Building data mining applications for CRM, McGraw-Hill, New York, NY (2000)\n",
    "\n"
   ]
  },
  {
   "cell_type": "markdown",
   "metadata": {},
   "source": [
    "Data Source:\n",
    "\n",
    "https://www.kaggle.com/radmirzosimov/telecom-users-dataset"
   ]
  },
  {
   "cell_type": "code",
   "execution_count": null,
   "metadata": {},
   "outputs": [],
   "source": []
  }
 ],
 "metadata": {
  "kernelspec": {
   "display_name": "Python 3",
   "language": "python",
   "name": "python3"
  },
  "language_info": {
   "codemirror_mode": {
    "name": "ipython",
    "version": 3
   },
   "file_extension": ".py",
   "mimetype": "text/x-python",
   "name": "python",
   "nbconvert_exporter": "python",
   "pygments_lexer": "ipython3",
   "version": "3.7.8"
  }
 },
 "nbformat": 4,
 "nbformat_minor": 4
}
