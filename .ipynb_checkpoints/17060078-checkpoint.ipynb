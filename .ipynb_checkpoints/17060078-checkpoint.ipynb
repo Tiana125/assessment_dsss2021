{
 "cells": [
  {
   "cell_type": "markdown",
   "metadata": {},
   "source": [
    "# CASA 0006 Data Science for Spatial Systems Final Assessment\n",
    "# ID: 17060078\n",
    "\n",
    "\n",
    "# Research Question:\n",
    "# Is it possible to predict a customer's churn based on the information held by their telecom providers?\n",
    "\n"
   ]
  },
  {
   "cell_type": "markdown",
   "metadata": {},
   "source": [
    "<a id='intro_cell'></a>\n",
    "### Introduction\n",
    "\n",
    "Berson et al defined the term \"customer churn\" as the customer's movement from one provider to another in the wireless telecom service industry. With an increasing trend of emerging providers in the telecommunication industry, the companies tend to keeping their existing clients rather than attracting new clients constantly for more long term profit(D. V. Poel and B. Larivi). Therefore, investigating the reasons to and measures to reduce churn is key to the survival of many telecom organisations. This analysis focuses on the former. It illustrates the relationship of the services provided to the customers and whether they churned. \n",
    "\n",
    "Specifically, it uses a series of binary classification techniques including K Nearest Neighbours, Decision Trees, Random Forest and Support Vector Machine. It finds a best model of predictive churn to reduce the customers turnover, enhancing its competitive edge.\n",
    "\n",
    "The rest of this analysis is structured as follows:\n",
    "Data will be cleaned and exploratory data analysis (overview) will be conducted, this is followed by applying four classification techniques and comparing their performance.\n"
   ]
  },
  {
   "cell_type": "markdown",
   "metadata": {},
   "source": [
    "[Introduction](#another_cell)|\n",
    "[Data preprocessing--Overview](#data_pre_over)|\n",
    "[EDA visualisation section 1](#eda1)|\n",
    "[Data cleaning](#data_cleaning)|\n",
    "[Processing independent and dependent variables](#xandy)|\n",
    "[EDA visualisation section 2](#eda2)|\n",
    "[splitting into training and testing set](#testandtrain)|\n",
    "[Classification1--KNN](#knn)|\n",
    "[Classification2--KNN](#dt)|\n",
    "[Classification3--KNN](#rf)|\n",
    "[Classification4--KNN](#svm)|\n",
    "[Comparison between models](#compare)|\n",
    "[Conclusion](#conclude)|\n",
    "[Bibliography](#bib)|"
   ]
  },
  {
   "cell_type": "markdown",
   "metadata": {},
   "source": [
    "<a id='data_pre_over'></a>\n",
    "### Data preprocessing\n",
    "#### Overview"
   ]
  },
  {
   "cell_type": "markdown",
   "metadata": {},
   "source": [
    "This dataset is originally from a telecommunications company, which was sourced from Kaggle. It contains information about the customers' demographic characteristics and the services they use, etc. \n",
    "\n",
    "The metadata is listed below:\n",
    "\n",
    "|Column Name | Description | Data Type|\n",
    "|:--:|:--:|:--:|\n",
    "|customerID | customer id| integer (numerical) |\n",
    "|gender | client gender (male / female) | boolean (categorical)|\n",
    "|SeniorCitizen | is the client retired (1, 0) |boolean (categorical)|\n",
    "|Partner | is the client married (Yes, No)|boolean (categorical)|\n",
    "|tenure| how many months a person has been a client of the company|integer (numerical) |\n",
    "|PhoneService | is the telephone service connected (Yes, No)|boolean (categorical)|\n",
    "|MultipleLines | are multiple phone lines connected (Yes, No, No phone service)|categorical|\n",
    "|InternetService | client's Internet service provider (DSL, Fiber optic, No)|categorical|\n",
    "|OnlineSecurity | is the online security service connected (Yes, No, No internet service)|categorical|\n",
    "|OnlineBackup | is the online backup service activated (Yes, No, No internet service)|categorical|\n",
    "|DeviceProtection | does the client have equipment insurance (Yes, No, No internet service)|categorical|\n",
    "|TechSupport | is the technical support service connected (Yes, No, No internet service)|categorical|\n",
    "|StreamingTV | is the streaming TV service connected (Yes, No, No internet service)|categorical|\n",
    "|StreamingMovies | is the streaming cinema service activated (Yes, No, No internet service)|categorical|\n",
    "|Contract | type of customer contract (Month-to-month, One year, Two year)|categorical|\n",
    "|PaperlessBilling | whether the client uses paperless billing (Yes, No)|boolean (categorical)|\n",
    "|PaymentMethod | payment method (Electronic check, Mailed check, Bank transfer (automatic), Credit card (automatic))|categorical|\n",
    "|MonthlyCharges | current monthly payment | float (numerical) |\n",
    "|TotalCharges | the total amount that the client paid for the services for the entire time | float (numerical) |\n",
    "|Churn| whether there was a churn (Yes or No)|boolean (categorical)|"
   ]
  },
  {
   "cell_type": "code",
   "execution_count": 1,
   "metadata": {},
   "outputs": [],
   "source": [
    "#data preprocessing packages\n",
    "import pandas as pd\n",
    "import seaborn as sns # for easier plotting\n",
    "import matplotlib.pyplot as plt # for plotting\n",
    "%matplotlib inline\n",
    "from sklearn.preprocessing import LabelEncoder\n",
    "from sklearn.feature_extraction import DictVectorizer\n",
    "from sklearn.model_selection import train_test_split\n",
    "\n",
    "# classification packages\n",
    "from sklearn.neighbors import KNeighborsClassifier\n",
    "from sklearn import metrics\n",
    "from sklearn.tree import DecisionTreeClassifier\n",
    "from sklearn.ensemble import RandomForestClassifier\n",
    "\n"
   ]
  },
  {
   "cell_type": "code",
   "execution_count": 2,
   "metadata": {},
   "outputs": [],
   "source": [
    "data = pd.read_csv(\"https://raw.githubusercontent.com/Tiana125/assessment_dsss2021/main/telecom_users.csv\",\n",
    "                  low_memory = False)"
   ]
  },
  {
   "cell_type": "code",
   "execution_count": 3,
   "metadata": {},
   "outputs": [
    {
     "name": "stdout",
     "output_type": "stream",
     "text": [
      "<class 'pandas.core.frame.DataFrame'>\n",
      "RangeIndex: 5986 entries, 0 to 5985\n",
      "Data columns (total 22 columns):\n",
      " #   Column            Non-Null Count  Dtype  \n",
      "---  ------            --------------  -----  \n",
      " 0   Unnamed: 0        5986 non-null   int64  \n",
      " 1   customerID        5986 non-null   object \n",
      " 2   gender            5986 non-null   object \n",
      " 3   SeniorCitizen     5986 non-null   int64  \n",
      " 4   Partner           5986 non-null   object \n",
      " 5   Dependents        5986 non-null   object \n",
      " 6   tenure            5986 non-null   int64  \n",
      " 7   PhoneService      5986 non-null   object \n",
      " 8   MultipleLines     5986 non-null   object \n",
      " 9   InternetService   5986 non-null   object \n",
      " 10  OnlineSecurity    5986 non-null   object \n",
      " 11  OnlineBackup      5986 non-null   object \n",
      " 12  DeviceProtection  5986 non-null   object \n",
      " 13  TechSupport       5986 non-null   object \n",
      " 14  StreamingTV       5986 non-null   object \n",
      " 15  StreamingMovies   5986 non-null   object \n",
      " 16  Contract          5986 non-null   object \n",
      " 17  PaperlessBilling  5986 non-null   object \n",
      " 18  PaymentMethod     5986 non-null   object \n",
      " 19  MonthlyCharges    5986 non-null   float64\n",
      " 20  TotalCharges      5986 non-null   object \n",
      " 21  Churn             5986 non-null   object \n",
      "dtypes: float64(1), int64(3), object(18)\n",
      "memory usage: 1.0+ MB\n"
     ]
    },
    {
     "data": {
      "text/plain": [
       "(5986, 22)"
      ]
     },
     "execution_count": 3,
     "metadata": {},
     "output_type": "execute_result"
    }
   ],
   "source": [
    "data.info()\n",
    "data.shape"
   ]
  },
  {
   "cell_type": "markdown",
   "metadata": {},
   "source": [
    "|Types of data|Number of data columns|\n",
    "|:--:|:--:|\n",
    "|Boolean|5|\n",
    "|Numerical|4|\n",
    "|Categorical (excluding Boolean)|13|\n",
    "\n",
    "Dimensions/ shape: (5986, 22)"
   ]
  },
  {
   "cell_type": "markdown",
   "metadata": {},
   "source": [
    "[Introduction](#another_cell)|\n",
    "[Data preprocessing--Overview](#data_pre_over)|\n",
    "[EDA visualisation section 1](#eda1)|\n",
    "[Data cleaning](#data_cleaning)|\n",
    "[Processing independent and dependent variables](#xandy)|\n",
    "[EDA visualisation section 2](#eda2)|\n",
    "[splitting into training and testing set](#testandtrain)|\n",
    "[Classification1--KNN](#knn)|\n",
    "[Classification2--KNN](#dt)|\n",
    "[Classification3--KNN](#rf)|\n",
    "[Classification4--KNN](#svm)|\n",
    "[Comparison between models](#compare)|\n",
    "[Conclusion](#conclude)|\n",
    "[Bibliography](#bib)|"
   ]
  },
  {
   "cell_type": "markdown",
   "metadata": {},
   "source": [
    "<a id='eda1'></a>\n",
    "#### Some EDA on original data"
   ]
  },
  {
   "cell_type": "code",
   "execution_count": 4,
   "metadata": {},
   "outputs": [
    {
     "data": {
      "text/plain": [
       "<AxesSubplot:xlabel='Dependents', ylabel='count'>"
      ]
     },
     "execution_count": 4,
     "metadata": {},
     "output_type": "execute_result"
    },
    {
     "data": {
      "image/png": "[encoded data removed]",
      "text/plain": [
       "<Figure size 1440x720 with 4 Axes>"
      ]
     },
     "metadata": {
      "needs_background": "light"
     },
     "output_type": "display_data"
    }
   ],
   "source": [
    "\n",
    "fig, axes = plt.subplots(ncols = 4, figsize=(20,10))\n",
    "\n",
    "sns.countplot(x=data[\"gender\"], ax=axes[0])\n",
    "sns.countplot(x=data[\"SeniorCitizen\"], ax=axes[1])\n",
    "sns.countplot(x=data[\"Partner\"], ax=axes[2])\n",
    "sns.countplot(x=data[\"Dependents\"], ax=axes[3])"
   ]
  },
  {
   "cell_type": "markdown",
   "metadata": {},
   "source": [
    "__Demographic of users__\n",
    "\n",
    "- The genders of users and whether they have partners are roughly evenly distributed.\n",
    "- Less than 20% of users are senior citizens. \n",
    "- More users do not have dependents. "
   ]
  },
  {
   "cell_type": "code",
   "execution_count": 5,
   "metadata": {},
   "outputs": [
    {
     "data": {
      "text/plain": [
       "<AxesSubplot:xlabel='tenure', ylabel='Count'>"
      ]
     },
     "execution_count": 5,
     "metadata": {},
     "output_type": "execute_result"
    },
    {
     "data": {
      "image/png": "[encoded data removed]",
      "text/plain": [
       "<Figure size 432x288 with 1 Axes>"
      ]
     },
     "metadata": {
      "needs_background": "light"
     },
     "output_type": "display_data"
    }
   ],
   "source": [
    "sns.histplot(x=\"tenure\",data=data,kde=False)"
   ]
  },
  {
   "cell_type": "markdown",
   "metadata": {},
   "source": [
    "There are more users who have been using the services for over 70 months and even more new users."
   ]
  },
  {
   "cell_type": "code",
   "execution_count": 6,
   "metadata": {},
   "outputs": [
    {
     "data": {
      "text/plain": [
       "<AxesSubplot:xlabel='StreamingMovies', ylabel='count'>"
      ]
     },
     "execution_count": 6,
     "metadata": {},
     "output_type": "execute_result"
    },
    {
     "data": {
      "image/png": "[encoded data removed]",
      "text/plain": [
       "<Figure size 1440x720 with 4 Axes>"
      ]
     },
     "metadata": {
      "needs_background": "light"
     },
     "output_type": "display_data"
    },
    {
     "data": {
      "image/png": "[encoded data removed]",
      "text/plain": [
       "<Figure size 1440x720 with 4 Axes>"
      ]
     },
     "metadata": {
      "needs_background": "light"
     },
     "output_type": "display_data"
    }
   ],
   "source": [
    "fig, axes = plt.subplots(ncols = 4, figsize=(20,10))\n",
    "\n",
    "sns.countplot(x=data[\"PhoneService\"], ax=axes[0])\n",
    "sns.countplot(x=data[\"MultipleLines\"], ax=axes[1])\n",
    "sns.countplot(x=data[\"OnlineSecurity\"], ax=axes[2])\n",
    "sns.countplot(x=data[\"OnlineBackup\"], ax=axes[3])\n",
    "\n",
    "fig, axes = plt.subplots(ncols = 4, figsize=(20,10))\n",
    "\n",
    "sns.countplot(x=data[\"DeviceProtection\"], ax=axes[0])\n",
    "sns.countplot(x=data[\"TechSupport\"], ax=axes[1])\n",
    "sns.countplot(x=data[\"StreamingTV\"], ax=axes[2])\n",
    "sns.countplot(x=data[\"StreamingMovies\"], ax=axes[3])\n"
   ]
  },
  {
   "cell_type": "markdown",
   "metadata": {},
   "source": [
    "__Services of users__\n",
    "\n",
    "- The most popular service is phone service, over 90% users use this service.\n",
    "- The second most popular service is multiple lines.\n",
    "\n",
    "- Some services, including online backup, device protection, streaming TV and movies have small discrepancy between the number of users and non-users.  "
   ]
  },
  {
   "cell_type": "markdown",
   "metadata": {},
   "source": [
    "[Introduction](#another_cell)|\n",
    "[Data preprocessing--Overview](#data_pre_over)|\n",
    "[EDA visualisation section 1](#eda1)|\n",
    "[Data cleaning](#data_cleaning)|\n",
    "[Processing independent and dependent variables](#xandy)|\n",
    "[EDA visualisation section 2](#eda2)|\n",
    "[splitting into training and testing set](#testandtrain)|\n",
    "[Classification1--KNN](#knn)|\n",
    "[Classification2--KNN](#dt)|\n",
    "[Classification3--KNN](#rf)|\n",
    "[Classification4--KNN](#svm)|\n",
    "[Comparison between models](#compare)|\n",
    "[Conclusion](#conclude)|\n",
    "[Bibliography](#bib)|"
   ]
  },
  {
   "cell_type": "markdown",
   "metadata": {},
   "source": [
    "<a id='data_cleaning'></a>\n",
    "#### Removing unnecessary columns\n",
    "After an overview of the data, the columns are consistent with the metadata. Some unnecessary columns are removed. "
   ]
  },
  {
   "cell_type": "code",
   "execution_count": 7,
   "metadata": {},
   "outputs": [],
   "source": [
    "# drop columns that are irreleant to analysis\n",
    "data = data.drop([\"Unnamed: 0\", \"customerID\"], axis = 1)"
   ]
  },
  {
   "cell_type": "markdown",
   "metadata": {},
   "source": [
    "#### Identifying missing, empty or incorrect values"
   ]
  },
  {
   "cell_type": "markdown",
   "metadata": {},
   "source": [
    "There are no missing value in the data as the number of entries are the same throughout all columns. However, the possibility of empty value cannot be ruled out. Additionally, categorical and numerical data requires different treatment and identification techiques. \n"
   ]
  },
  {
   "cell_type": "code",
   "execution_count": 8,
   "metadata": {},
   "outputs": [],
   "source": [
    "# separating the different types of columns\n",
    "categorical_columns = ['gender', 'SeniorCitizen', 'Partner', 'Dependents',\n",
    "       'PhoneService', 'MultipleLines', 'InternetService', 'OnlineSecurity',\n",
    "       'OnlineBackup', 'DeviceProtection', 'TechSupport', 'StreamingTV',\n",
    "       'StreamingMovies', 'Contract', 'PaperlessBilling', 'PaymentMethod',\n",
    "       'Churn']\n",
    "numerical_columns = ['TotalCharges','MonthlyCharges','tenure']\n"
   ]
  },
  {
   "cell_type": "code",
   "execution_count": 9,
   "metadata": {},
   "outputs": [
    {
     "name": "stdout",
     "output_type": "stream",
     "text": [
      "Column name: gender\n",
      "Unique values: ['Male' 'Female']\n",
      "\n",
      " \n",
      "Column name: SeniorCitizen\n",
      "Unique values: [0 1]\n",
      "\n",
      " \n",
      "Column name: Partner\n",
      "Unique values: ['Yes' 'No']\n",
      "\n",
      " \n",
      "Column name: Dependents\n",
      "Unique values: ['Yes' 'No']\n",
      "\n",
      " \n",
      "Column name: PhoneService\n",
      "Unique values: ['Yes' 'No']\n",
      "\n",
      " \n",
      "Column name: MultipleLines\n",
      "Unique values: ['Yes' 'No' 'No phone service']\n",
      "\n",
      " \n",
      "Column name: InternetService\n",
      "Unique values: ['No' 'Fiber optic' 'DSL']\n",
      "\n",
      " \n",
      "Column name: OnlineSecurity\n",
      "Unique values: ['No internet service' 'No' 'Yes']\n",
      "\n",
      " \n",
      "Column name: OnlineBackup\n",
      "Unique values: ['No internet service' 'Yes' 'No']\n",
      "\n",
      " \n",
      "Column name: DeviceProtection\n",
      "Unique values: ['No internet service' 'Yes' 'No']\n",
      "\n",
      " \n",
      "Column name: TechSupport\n",
      "Unique values: ['No internet service' 'No' 'Yes']\n",
      "\n",
      " \n",
      "Column name: StreamingTV\n",
      "Unique values: ['No internet service' 'Yes' 'No']\n",
      "\n",
      " \n",
      "Column name: StreamingMovies\n",
      "Unique values: ['No internet service' 'No' 'Yes']\n",
      "\n",
      " \n",
      "Column name: Contract\n",
      "Unique values: ['Two year' 'Month-to-month' 'One year']\n",
      "\n",
      " \n",
      "Column name: PaperlessBilling\n",
      "Unique values: ['No' 'Yes']\n",
      "\n",
      " \n",
      "Column name: PaymentMethod\n",
      "Unique values: ['Credit card (automatic)' 'Bank transfer (automatic)' 'Electronic check'\n",
      " 'Mailed check']\n",
      "\n",
      " \n",
      "Column name: Churn\n",
      "Unique values: ['No' 'Yes']\n",
      "\n",
      " \n"
     ]
    }
   ],
   "source": [
    "# listing the unique values of categorical data columns\n",
    "for i in data[categorical_columns].columns:\n",
    "    print('Column name:',i)\n",
    "    print('Unique values:',data[i].unique())\n",
    "    print('\\n ')"
   ]
  },
  {
   "cell_type": "code",
   "execution_count": 10,
   "metadata": {},
   "outputs": [
    {
     "name": "stdout",
     "output_type": "stream",
     "text": [
      "Column name: TotalCharges\n",
      "max values: 999.9\n",
      "Min values:  \n",
      "\n",
      " \n",
      "Column name: MonthlyCharges\n",
      "max values: 118.75\n",
      "Min values: 18.25\n",
      "\n",
      " \n",
      "Column name: tenure\n",
      "max values: 72\n",
      "Min values: 0\n",
      "\n",
      " \n"
     ]
    }
   ],
   "source": [
    "# listing the maximum and minimum values of numerical data columns\n",
    "for i in data[numerical_columns].columns:\n",
    "    print('Column name:',i)\n",
    "    print('max values:',data[i].max())\n",
    "    print('Min values:',data[i].min())\n",
    "    print('\\n ')"
   ]
  },
  {
   "cell_type": "markdown",
   "metadata": {},
   "source": [
    "Empty data is identified in the numerical \"TotalCharges\" column, the whole row is removed if there is an empty entry. In addition, in the `data.info()` output, the data type of \"TotalCharges\" is not consistent with the metadata, this will also be corrected. "
   ]
  },
  {
   "cell_type": "code",
   "execution_count": 11,
   "metadata": {},
   "outputs": [
    {
     "data": {
      "text/plain": [
       "(5976, 20)"
      ]
     },
     "execution_count": 11,
     "metadata": {},
     "output_type": "execute_result"
    }
   ],
   "source": [
    "# remove rows with empty space and see difference\n",
    "\n",
    "data = data[data.TotalCharges != \" \"]\n",
    "data.TotalCharges = data.TotalCharges.astype(float)\n",
    "data.shape"
   ]
  },
  {
   "cell_type": "markdown",
   "metadata": {},
   "source": [
    "Ten rows were removed, which is not a significant amount compared to the whole dataset."
   ]
  },
  {
   "cell_type": "markdown",
   "metadata": {},
   "source": [
    "[Introduction](#another_cell)|\n",
    "[Data preprocessing--Overview](#data_pre_over)|\n",
    "[EDA visualisation section 1](#eda1)|\n",
    "[Data cleaning](#data_cleaning)|\n",
    "[Processing independent and dependent variables](#xandy)|\n",
    "[EDA visualisation section 2](#eda2)|\n",
    "[splitting into training and testing set](#testandtrain)|\n",
    "[Classification1--KNN](#knn)|\n",
    "[Classification2--KNN](#dt)|\n",
    "[Classification3--KNN](#rf)|\n",
    "[Classification4--KNN](#svm)|\n",
    "[Comparison between models](#compare)|\n",
    "[Conclusion](#conclude)|\n",
    "[Bibliography](#bib)|"
   ]
  },
  {
   "cell_type": "markdown",
   "metadata": {},
   "source": [
    "<a id='xandy'></a>\n",
    "#### Separating dependent and independent variables"
   ]
  },
  {
   "cell_type": "code",
   "execution_count": 12,
   "metadata": {},
   "outputs": [],
   "source": [
    "churn = data.Churn\n",
    "data = data.drop(\"Churn\", axis = 1)"
   ]
  },
  {
   "cell_type": "markdown",
   "metadata": {},
   "source": [
    "In addition to separating the variables, categorical values need to be treated (transformed to numerical data). \n",
    "\n",
    "For the response variable, `LabelEncoder` is used rather than `pandas.get_dummies` because it conserves space and the order of integers do not have to be meaningful as churn only has two outputs (unlike regression problems where the order of integers implies incremental influence). \n",
    "\n",
    "For the independent variables, `DictVectorizer` is used to convert feature arrays represented as lists of  dictionaries. Specifically, the flag “record” is used in `to_dict` for converting them to arrays of dictionaries, where one dictionary corresponds to one data entry. This is essential because to obtain a list of feature names ordered by their indices as well as converting categorical values to numericals, an array of dictionaries(feature-value mappings) must be fed to`DictVectorizer`."
   ]
  },
  {
   "cell_type": "code",
   "execution_count": 13,
   "metadata": {},
   "outputs": [],
   "source": [
    "le = LabelEncoder() # creates the LabelEncoder object\n",
    "le.fit(['No', 'Yes']) # explicitly encode 'Yes' and  'No' with 1 and 0, respectively\n",
    "label_y = le.transform(churn) # runs LabelEncoder on the churn column"
   ]
  },
  {
   "cell_type": "code",
   "execution_count": 14,
   "metadata": {},
   "outputs": [
    {
     "data": {
      "text/plain": [
       "['Contract=Month-to-month',\n",
       " 'Contract=One year',\n",
       " 'Contract=Two year',\n",
       " 'Dependents=No',\n",
       " 'Dependents=Yes',\n",
       " 'DeviceProtection=No',\n",
       " 'DeviceProtection=No internet service',\n",
       " 'DeviceProtection=Yes',\n",
       " 'InternetService=DSL',\n",
       " 'InternetService=Fiber optic',\n",
       " 'InternetService=No',\n",
       " 'MonthlyCharges',\n",
       " 'MultipleLines=No',\n",
       " 'MultipleLines=No phone service',\n",
       " 'MultipleLines=Yes',\n",
       " 'OnlineBackup=No',\n",
       " 'OnlineBackup=No internet service',\n",
       " 'OnlineBackup=Yes',\n",
       " 'OnlineSecurity=No',\n",
       " 'OnlineSecurity=No internet service',\n",
       " 'OnlineSecurity=Yes',\n",
       " 'PaperlessBilling=No',\n",
       " 'PaperlessBilling=Yes',\n",
       " 'Partner=No',\n",
       " 'Partner=Yes',\n",
       " 'PaymentMethod=Bank transfer (automatic)',\n",
       " 'PaymentMethod=Credit card (automatic)',\n",
       " 'PaymentMethod=Electronic check',\n",
       " 'PaymentMethod=Mailed check',\n",
       " 'PhoneService=No',\n",
       " 'PhoneService=Yes',\n",
       " 'SeniorCitizen',\n",
       " 'StreamingMovies=No',\n",
       " 'StreamingMovies=No internet service',\n",
       " 'StreamingMovies=Yes',\n",
       " 'StreamingTV=No',\n",
       " 'StreamingTV=No internet service',\n",
       " 'StreamingTV=Yes',\n",
       " 'TechSupport=No',\n",
       " 'TechSupport=No internet service',\n",
       " 'TechSupport=Yes',\n",
       " 'TotalCharges',\n",
       " 'gender=Female',\n",
       " 'gender=Male',\n",
       " 'tenure']"
      ]
     },
     "execution_count": 14,
     "metadata": {},
     "output_type": "execute_result"
    }
   ],
   "source": [
    "data_dict = data.to_dict('records')\n",
    "\n",
    "vec = DictVectorizer()  # create the DictVectorizer object\n",
    "vec_array = vec.fit_transform(data_dict).toarray()  \n",
    "# execute process on the record dictionaries and transform the result into a numpy array objec\n",
    "\n",
    "vec.get_feature_names()"
   ]
  },
  {
   "cell_type": "markdown",
   "metadata": {},
   "source": [
    "[Introduction](#another_cell)|\n",
    "[Data preprocessing--Overview](#data_pre_over)|\n",
    "[EDA visualisation section 1](#eda1)|\n",
    "[Data cleaning](#data_cleaning)|\n",
    "[Processing independent and dependent variables](#xandy)|\n",
    "[EDA visualisation section 2](#eda2)|\n",
    "[splitting into training and testing set](#testandtrain)|\n",
    "[Classification1--KNN](#knn)|\n",
    "[Classification2--KNN](#dt)|\n",
    "[Classification3--KNN](#rf)|\n",
    "[Classification4--KNN](#svm)|\n",
    "[Comparison between models](#compare)|\n",
    "[Conclusion](#conclude)|\n",
    "[Bibliography](#bib)|"
   ]
  },
  {
   "cell_type": "markdown",
   "metadata": {},
   "source": [
    "<a id='eda2'></a>\n",
    "#### Some EDA on cleaned numerical data"
   ]
  },
  {
   "cell_type": "code",
   "execution_count": 15,
   "metadata": {},
   "outputs": [
    {
     "name": "stderr",
     "output_type": "stream",
     "text": [
      "/opt/conda/envs/sds2020/lib/python3.7/site-packages/seaborn/distributions.py:2551: FutureWarning: `distplot` is a deprecated function and will be removed in a future version. Please adapt your code to use either `displot` (a figure-level function with similar flexibility) or `histplot` (an axes-level function for histograms).\n",
      "  warnings.warn(msg, FutureWarning)\n"
     ]
    },
    {
     "data": {
      "text/plain": [
       "<AxesSubplot:ylabel='Density'>"
      ]
     },
     "execution_count": 15,
     "metadata": {},
     "output_type": "execute_result"
    },
    {
     "data": {
      "image/png": "[encoded data removed]",
      "text/plain": [
       "<Figure size 1440x720 with 3 Axes>"
      ]
     },
     "metadata": {
      "needs_background": "light"
     },
     "output_type": "display_data"
    },
    {
     "data": {
      "image/png": "[encoded data removed]",
      "text/plain": [
       "<Figure size 1440x720 with 3 Axes>"
      ]
     },
     "metadata": {
      "needs_background": "light"
     },
     "output_type": "display_data"
    }
   ],
   "source": [
    "\n",
    "fig, axes = plt.subplots(ncols = 3, figsize=(20,10))\n",
    "\n",
    "sns.countplot(x=data[\"Contract\"], ax=axes[0])\n",
    "sns.countplot(x=data[\"PaymentMethod\"], ax=axes[2])\n",
    "sns.countplot(x=data[\"PaperlessBilling\"], ax=axes[1])\n",
    "\n",
    "fig, axes = plt.subplots(ncols = 3, figsize=(20,10))\n",
    "\n",
    "sns.histplot(x=data[\"MonthlyCharges\"], ax=axes[0])\n",
    "sns.countplot(x=churn, ax=axes[2])\n",
    "sns.distplot(x=data[\"TotalCharges\"], ax=axes[1])\n"
   ]
  },
  {
   "cell_type": "markdown",
   "metadata": {},
   "source": [
    "__Monetary choices__\n",
    "\n",
    "- About half of the users use monthly contracts and the rest of them are in long-term contracts. \n",
    "- More people use paperless billings.\n",
    "- In monthly charges plot (bottom left), 30% users are light users who pay only $20 each month whereas another high blob of users are charged $100. \n",
    "- Most users are new users, seen in the TotalCharges plot (bottom mid). This suggests there is a healthy amount of new users coming in. \n",
    "- Most users do not churn. About 20% users churn. "
   ]
  },
  {
   "cell_type": "markdown",
   "metadata": {},
   "source": [
    "[Introduction](#another_cell)|\n",
    "[Data preprocessing--Overview](#data_pre_over)|\n",
    "[EDA visualisation section 1](#eda1)|\n",
    "[Data cleaning](#data_cleaning)|\n",
    "[Processing independent and dependent variables](#xandy)|\n",
    "[EDA visualisation section 2](#eda2)|\n",
    "[splitting into training and testing set](#testandtrain)|\n",
    "[Classification1--KNN](#knn)|\n",
    "[Classification2--KNN](#dt)|\n",
    "[Classification3--KNN](#rf)|\n",
    "[Classification4--KNN](#svm)|\n",
    "[Comparison between models](#compare)|\n",
    "[Conclusion](#conclude)|\n",
    "[Bibliography](#bib)|"
   ]
  },
  {
   "cell_type": "markdown",
   "metadata": {},
   "source": [
    "<a id='testandtrain'></a>\n",
    "#### splitting into training and testing set"
   ]
  },
  {
   "cell_type": "code",
   "execution_count": 16,
   "metadata": {},
   "outputs": [
    {
     "data": {
      "text/plain": [
       "(4482, 1494, 4482, 1494)"
      ]
     },
     "execution_count": 16,
     "metadata": {},
     "output_type": "execute_result"
    }
   ],
   "source": [
    "train_d, test_d, train_lab, test_lab = train_test_split(vec_array, churn)\n",
    "len(train_d),len(test_d),len(train_lab),len(test_lab)"
   ]
  },
  {
   "cell_type": "markdown",
   "metadata": {},
   "source": [
    "The training and testing split is a 75/25 ratio. "
   ]
  },
  {
   "cell_type": "markdown",
   "metadata": {},
   "source": [
    "### Data Analytics\n",
    "\n",
    "It is a binary classification problem to predict the customer churn using a series of attributes. In this analysis, four classification methods are used:\n",
    "\n",
    "- k-Nearest Neighbour\n",
    "- Decision Tree\n",
    "- Random Forest \n",
    "- Support Vector Machine\n",
    "<a id='knn'></a>\n",
    "#### k-Nearest Neighbour Classification\n",
    "A simple method which classifies data points based on their proximity. "
   ]
  },
  {
   "cell_type": "code",
   "execution_count": 17,
   "metadata": {},
   "outputs": [],
   "source": [
    "# parameter tuning for knn\n",
    "knn_k = [10,50,60,70,100,150,200,500,1000]\n",
    "knn_acc=[]\n",
    "for i in knn_k:\n",
    "    knn = KNeighborsClassifier(n_neighbors=i)  # creates the kNN classifier, setting it to check the selected neighbouring points\n",
    "    knn.fit(train_d, train_lab)  # executes the classifier on the training dataset\n",
    "    knn_acc.append(knn.score(test_d, test_lab) )"
   ]
  },
  {
   "cell_type": "code",
   "execution_count": 18,
   "metadata": {},
   "outputs": [
    {
     "data": {
      "text/plain": [
       "Text(0, 0.5, 'accuracy')"
      ]
     },
     "execution_count": 18,
     "metadata": {},
     "output_type": "execute_result"
    },
    {
     "data": {
      "image/png": "[encoded data removed]",
      "text/plain": [
       "<Figure size 432x288 with 1 Axes>"
      ]
     },
     "metadata": {
      "needs_background": "light"
     },
     "output_type": "display_data"
    }
   ],
   "source": [
    "# results(knn accuracies) are generated from the output of the above code cell,\n",
    "# this may be different across different runs\n",
    "\n",
    "plt.scatter(knn_k, knn_acc)\n",
    "plt.title(\"KNN parameter selection\")\n",
    "plt.xlabel(\"KNN parameter\")\n",
    "plt.ylabel(\"accuracy\")"
   ]
  },
  {
   "cell_type": "markdown",
   "metadata": {},
   "source": [
    "The accuracy of KNN is around 76%. One should look for a k value that maximises the accuracy without being too small. A tiny k value would result in over-fitting to each small cluster, which would often lead to a low performance. Thus the knn's parameter is selected to be 100 and its accuracy is about 76.3%."
   ]
  },
  {
   "cell_type": "code",
   "execution_count": 19,
   "metadata": {},
   "outputs": [
    {
     "data": {
      "image/png": "[encoded data removed]",
      "text/plain": [
       "<Figure size 288x288 with 2 Axes>"
      ]
     },
     "metadata": {
      "needs_background": "light"
     },
     "output_type": "display_data"
    }
   ],
   "source": [
    "# Now the selected k is used to classify data. \n",
    "knn = KNeighborsClassifier(n_neighbors=100)\n",
    "knn.fit(train_d, train_lab)\n",
    "predictions = knn.predict(test_d) # make predictions\n",
    "confusion_matrix = metrics.confusion_matrix(test_lab, predictions) # fit confusion matrix\n",
    "plt.matshow(confusion_matrix) #show confusion matrix\n",
    "plt.title('Confusion matrix')\n",
    "plt.colorbar()\n",
    "plt.ylabel('True label')\n",
    "plt.xlabel('Predicted label')\n",
    "plt.show()"
   ]
  },
  {
   "cell_type": "code",
   "execution_count": 20,
   "metadata": {},
   "outputs": [
    {
     "name": "stdout",
     "output_type": "stream",
     "text": [
      "KNN Classification results: \n",
      "              precision    recall  f1-score   support\n",
      "\n",
      "          No       0.77      0.96      0.86      1093\n",
      "         Yes       0.69      0.22      0.34       401\n",
      "\n",
      "    accuracy                           0.76      1494\n",
      "   macro avg       0.73      0.59      0.60      1494\n",
      "weighted avg       0.75      0.76      0.72      1494\n",
      "\n"
     ]
    }
   ],
   "source": [
    "print(\"KNN Classification results: \")\n",
    "print(metrics.classification_report(test_lab, predictions))"
   ]
  },
  {
   "cell_type": "markdown",
   "metadata": {},
   "source": [
    "__Performance__\n",
    "\n",
    "The overall accuracy(regardless of classes) is well, however, the recall of \"Yes\" is only 0.24, meaning only 24% of customer churn is correctly identified. This is more important than the overall accuaracy because identifying and reducing the customer churn is the key to this research question and increasing corporate revenue. "
   ]
  },
  {
   "cell_type": "markdown",
   "metadata": {},
   "source": [
    "[Introduction](#another_cell)|\n",
    "[Data preprocessing--Overview](#data_pre_over)|\n",
    "[EDA visualisation section 1](#eda1)|\n",
    "[Data cleaning](#data_cleaning)|\n",
    "[Processing independent and dependent variables](#xandy)|\n",
    "[EDA visualisation section 2](#eda2)|\n",
    "[splitting into training and testing set](#testandtrain)|\n",
    "[Classification1--KNN](#knn)|\n",
    "[Classification2--KNN](#dt)|\n",
    "[Classification3--KNN](#rf)|\n",
    "[Classification4--KNN](#svm)|\n",
    "[Comparison between models](#compare)|\n",
    "[Conclusion](#conclude)|\n",
    "[Bibliography](#bib)|"
   ]
  },
  {
   "cell_type": "markdown",
   "metadata": {},
   "source": [
    "<a id='dt'></a>\n",
    "#### Decision Tree\n",
    "\n",
    "Decision Tree classfies a dataset by breaking it down into increasingly smaller sub-datasets. Different breakdown criteria are used to split the dataset as the number of \"leaves\" on the tree become smaller. When the data is traced down to only one data point, the classifier puts this point into a class that corresponds to one key. \n",
    "\n",
    "The same process was performed with this classifier, but no parameter is needed this time. "
   ]
  },
  {
   "cell_type": "code",
   "execution_count": 21,
   "metadata": {},
   "outputs": [
    {
     "data": {
      "text/plain": [
       "0.7456492637215528"
      ]
     },
     "execution_count": 21,
     "metadata": {},
     "output_type": "execute_result"
    }
   ],
   "source": [
    "tree = DecisionTreeClassifier()\n",
    "tree.fit(train_d, train_lab)\n",
    "tree.score(test_d, test_lab)"
   ]
  },
  {
   "cell_type": "code",
   "execution_count": 22,
   "metadata": {},
   "outputs": [
    {
     "data": {
      "image/png": "[encoded data removed]",
      "text/plain": [
       "<Figure size 288x288 with 2 Axes>"
      ]
     },
     "metadata": {
      "needs_background": "light"
     },
     "output_type": "display_data"
    }
   ],
   "source": [
    "predictions = tree.predict(test_d)\n",
    "confusion_matrix = metrics.confusion_matrix(test_lab, predictions)\n",
    "plt.matshow(confusion_matrix)\n",
    "plt.title('Confusion matrix')\n",
    "plt.colorbar()\n",
    "plt.ylabel('True label')\n",
    "plt.xlabel('Predicted label')\n",
    "plt.show()"
   ]
  },
  {
   "cell_type": "code",
   "execution_count": 23,
   "metadata": {},
   "outputs": [
    {
     "name": "stdout",
     "output_type": "stream",
     "text": [
      "              precision    recall  f1-score   support\n",
      "\n",
      "          No       0.82      0.83      0.83      1093\n",
      "         Yes       0.53      0.51      0.52       401\n",
      "\n",
      "    accuracy                           0.75      1494\n",
      "   macro avg       0.68      0.67      0.67      1494\n",
      "weighted avg       0.74      0.75      0.74      1494\n",
      "\n"
     ]
    }
   ],
   "source": [
    "print(metrics.classification_report(test_lab, predictions))"
   ]
  },
  {
   "cell_type": "markdown",
   "metadata": {},
   "source": [
    "__Performance__\n",
    "\n",
    "The overall accuracy(regardless of classes) is 73%, similar to the results of KNN classifier. There is a significant improvement in recall in \"Yes\", nearly half of churn in correctly identifie this time. However, the precision of \"Yes\" is lower than those of knn-classifier: only 50% customer actually ended their contract with the company (churn) out of all predicted churn users. "
   ]
  },
  {
   "cell_type": "markdown",
   "metadata": {},
   "source": [
    "[Introduction](#another_cell)|\n",
    "[Data preprocessing--Overview](#data_pre_over)|\n",
    "[EDA visualisation section 1](#eda1)|\n",
    "[Data cleaning](#data_cleaning)|\n",
    "[Processing independent and dependent variables](#xandy)|\n",
    "[EDA visualisation section 2](#eda2)|\n",
    "[splitting into training and testing set](#testandtrain)|\n",
    "[Classification1--KNN](#knn)|\n",
    "[Classification2--KNN](#dt)|\n",
    "[Classification3--KNN](#rf)|\n",
    "[Classification4--KNN](#svm)|\n",
    "[Comparison between models](#compare)|\n",
    "[Conclusion](#conclude)|\n",
    "[Bibliography](#bib)|"
   ]
  },
  {
   "cell_type": "markdown",
   "metadata": {},
   "source": [
    "<a id='rf'></a>\n",
    "#### Random Forest Classifiers\n",
    "\n",
    "Random Forest Classifiers link multiple decision tree classifiers. \n",
    "\n",
    "A parameter,`n_estimators`, is needed this time, which is the number of trees in the forest."
   ]
  },
  {
   "cell_type": "code",
   "execution_count": 24,
   "metadata": {},
   "outputs": [],
   "source": [
    "# parameter tuning for random forest\n",
    "#randf_n = [10,30,60,100,200,500,1000]\n",
    "\n",
    "#from datetime import datetime\n",
    "\n",
    "# for i in randf_n:\n",
    "#     forest=RandomForestClassifier(n_estimators=i)  # creates the random forest classifier, setting it to check the selected neighbouring points\n",
    "#     start = datetime.now()\n",
    "#     forest.fit(train_d, train_lab)  # executes the classifier on the training dataset\n",
    "#     end = datetime.now()\n",
    "#     time_taken = end - start\n",
    "#     print('Time: ',time_taken)\n",
    "#     print(forest.score(test_d, test_lab))\n",
    "    "
   ]
  },
  {
   "cell_type": "code",
   "execution_count": 25,
   "metadata": {},
   "outputs": [
    {
     "name": "stdout",
     "output_type": "stream",
     "text": [
      "0.7791164658634538\n"
     ]
    }
   ],
   "source": [
    "forest=RandomForestClassifier(n_estimators=60)  # creates the random forest classifier, setting it to check the selected neighbouring points\n",
    "forest.fit(train_d, train_lab)  # executes the classifier on the training dataset\n",
    "print(forest.score(test_d, test_lab))"
   ]
  },
  {
   "cell_type": "markdown",
   "metadata": {},
   "source": [
    "As the value of `n_estimators` (number of trees) increases, the classification process will run longer. To ensure the notebook runs quickly, the time each process runs takes on my machine is recorded below:\n",
    "\n",
    "|Number of trees (n_estimators)|Time taken to run the classifier|Accuracy|\n",
    "|:--:|:--:|:--:|\n",
    "|10|0.3s|0.7557|\n",
    "|30|0.3s|0.7671|\n",
    "|60|0.6s|0.7711|\n",
    "|100|0.9s|0.7697|\n",
    "|200|2s|0.7738|\n",
    "|500|5s|0.7724|\n",
    "|1000|10s|0.7738|\n",
    "\n",
    "In case you wish to run the process yourself, comment every line in the previous code cell and uncomment the cell above it. \n"
   ]
  },
  {
   "cell_type": "code",
   "execution_count": 26,
   "metadata": {},
   "outputs": [
    {
     "data": {
      "text/plain": [
       "Text(0, 0.5, 'accuracy')"
      ]
     },
     "execution_count": 26,
     "metadata": {},
     "output_type": "execute_result"
    },
    {
     "data": {
      "image/png": "[encoded data removed]",
      "text/plain": [
       "<Figure size 432x288 with 1 Axes>"
      ]
     },
     "metadata": {
      "needs_background": "light"
     },
     "output_type": "display_data"
    }
   ],
   "source": [
    "# results may be different across different runs\n",
    "rf_acc = [0.7557,0.7671,0.7711,0.7697,0.7738,0.7724,0.7738]\n",
    "rf_n = [10,30,60,100,200,500,1000]\n",
    "rf_time= [0.3,0.3,0.6,0.9,2,5,10]\n",
    "plt.scatter(rf_n, rf_acc)\n",
    "plt.scatter(rf_n, rf_time)\n",
    "plt.title(\"Random forest parameter selection\")\n",
    "plt.xlabel(\"Random forest parameter\")\n",
    "plt.ylabel(\"accuracy\")"
   ]
  },
  {
   "cell_type": "markdown",
   "metadata": {},
   "source": [
    "The parameter was chosen to be 60 as it maximises the accuracy without slowing down the process too much. "
   ]
  },
  {
   "cell_type": "code",
   "execution_count": 27,
   "metadata": {},
   "outputs": [
    {
     "data": {
      "image/png": "[encoded data removed]",
      "text/plain": [
       "<Figure size 288x288 with 2 Axes>"
      ]
     },
     "metadata": {
      "needs_background": "light"
     },
     "output_type": "display_data"
    }
   ],
   "source": [
    "predictions = forest.predict(test_d)\n",
    "confusion_matrix = metrics.confusion_matrix(test_lab, predictions)\n",
    "plt.matshow(confusion_matrix)\n",
    "plt.title('Confusion matrix')\n",
    "plt.colorbar()\n",
    "plt.ylabel('True label')\n",
    "plt.xlabel('Predicted label')\n",
    "plt.show()"
   ]
  },
  {
   "cell_type": "code",
   "execution_count": 28,
   "metadata": {},
   "outputs": [
    {
     "name": "stdout",
     "output_type": "stream",
     "text": [
      "              precision    recall  f1-score   support\n",
      "\n",
      "          No       0.82      0.90      0.86      1093\n",
      "         Yes       0.62      0.46      0.53       401\n",
      "\n",
      "    accuracy                           0.78      1494\n",
      "   macro avg       0.72      0.68      0.69      1494\n",
      "weighted avg       0.77      0.78      0.77      1494\n",
      "\n"
     ]
    }
   ],
   "source": [
    "print(metrics.classification_report(test_lab, predictions))"
   ]
  },
  {
   "cell_type": "markdown",
   "metadata": {},
   "source": [
    "__Performance__\n",
    "\n",
    "The overall accuracy(regardless of classes) is 78%, similar to the accuracites of the above two classifiers. The recall in \"Yes\" is slightly smaller than that of decision trees and the precision of \"Yes\" is higher than that of  decision trees but lower than KNN. \n",
    "\n",
    "\n",
    "Between precision and recall, the company needs recall value to be higher as they can afford to better their service on both kinds of customers(\"Yes\" and \"No\" in the churn column), than to lose the customer (that have not be identified).\n",
    "\n"
   ]
  },
  {
   "cell_type": "markdown",
   "metadata": {},
   "source": [
    "[Introduction](#another_cell)|\n",
    "[Data preprocessing--Overview](#data_pre_over)|\n",
    "[EDA visualisation section 1](#eda1)|\n",
    "[Data cleaning](#data_cleaning)|\n",
    "[Processing independent and dependent variables](#xandy)|\n",
    "[EDA visualisation section 2](#eda2)|\n",
    "[splitting into training and testing set](#testandtrain)|\n",
    "[Classification1--KNN](#knn)|\n",
    "[Classification2--KNN](#dt)|\n",
    "[Classification3--KNN](#rf)|\n",
    "[Classification4--KNN](#svm)|\n",
    "[Comparison between models](#compare)|\n",
    "[Conclusion](#conclude)|\n",
    "[Bibliography](#bib)|"
   ]
  },
  {
   "cell_type": "markdown",
   "metadata": {},
   "source": [
    "<a id='svm'></a>\n",
    "#### SVM\n",
    "\n",
    "Support vector machine is another commonly-used supervised learning classification technique. It groups different clusters of data points by drawing and looking for the best hyperplane between them and maximise the distance between the line and nearest data points. \n",
    "\n",
    "In 2D, the hyperplane is just a line. But in mre dimensions, the feature space needs to be transformed into smaller dimensions. Kernel functions are often used to reduce computational complexity in the transformation. \n",
    "\n",
    "Four types of kernel functions are provided in Python Sklearn package:\n",
    "- linear\n",
    "- poly\n",
    "- rbf (Radial Basis Function)\n",
    "- sigmoid\n",
    "\n",
    "RBF is the most used kernel function as it is stationary, isotropic and smooth (Sycorax, StackOverflow). Unlike a linear kernel function, the degree of feature space can be large, so that the data are more likely to be linearly independent (separable) in a high-dimensional space. Thus RBF is used in this analysis (it is the default kernel function in `svm.SVC()`). \n",
    "\n",
    "RBF has two parameters: C and gamma (Pedregosa et al., 2011). \n",
    "- A low C smoothes the decision surface whereas a high C tries to classify all training data correctly (resulting in a boundary that may be close to the data points). \n",
    "- A low gamma indicates that one training data point has a low influence and vice versa.\n"
   ]
  },
  {
   "cell_type": "code",
   "execution_count": 29,
   "metadata": {},
   "outputs": [
    {
     "name": "stderr",
     "output_type": "stream",
     "text": [
      "/opt/conda/envs/sds2020/lib/python3.7/site-packages/sklearn/metrics/_classification.py:1221: UndefinedMetricWarning: Precision and F-score are ill-defined and being set to 0.0 in labels with no predicted samples. Use `zero_division` parameter to control this behavior.\n",
      "  _warn_prf(average, modifier, msg_start, len(result))\n",
      "/opt/conda/envs/sds2020/lib/python3.7/site-packages/sklearn/metrics/_classification.py:1221: UndefinedMetricWarning: Precision and F-score are ill-defined and being set to 0.0 in labels with no predicted samples. Use `zero_division` parameter to control this behavior.\n",
      "  _warn_prf(average, modifier, msg_start, len(result))\n",
      "/opt/conda/envs/sds2020/lib/python3.7/site-packages/sklearn/metrics/_classification.py:1221: UndefinedMetricWarning: Precision and F-score are ill-defined and being set to 0.0 in labels with no predicted samples. Use `zero_division` parameter to control this behavior.\n",
      "  _warn_prf(average, modifier, msg_start, len(result))\n",
      "/opt/conda/envs/sds2020/lib/python3.7/site-packages/sklearn/metrics/_classification.py:1221: UndefinedMetricWarning: Precision and F-score are ill-defined and being set to 0.0 in labels with no predicted samples. Use `zero_division` parameter to control this behavior.\n",
      "  _warn_prf(average, modifier, msg_start, len(result))\n"
     ]
    }
   ],
   "source": [
    "from sklearn import svm\n",
    "from sklearn.metrics import precision_recall_fscore_support as score\n",
    "\n",
    "\n",
    "# This cell takes a long time to run as it goes through every combination of parameters \n",
    "# fits, predict and give scores again and again\n",
    "Cs = [0.001, 0.10, 0.1, 10, 25, 50, 100, 1000]\n",
    "gammas = [1e-2, 1e-3, 1e-4, 1e-5]\n",
    "accs=[]\n",
    "recalls=[]\n",
    "\n",
    "for i in gammas:\n",
    "    for j in Cs:\n",
    "        SVC_model = svm.SVC(gamma=i, C=j)\n",
    "        SVC_model.fit(train_d, train_lab)\n",
    "        predictions = SVC_model.predict(test_d)\n",
    "        _,recall,_,_=score(test_lab, predictions,average='macro')\n",
    "        recalls.append(recall)\n",
    "        accs.append(SVC_model.score(test_d, test_lab))"
   ]
  },
  {
   "cell_type": "code",
   "execution_count": 30,
   "metadata": {},
   "outputs": [
    {
     "data": {
      "text/plain": [
       "<matplotlib.legend.Legend at 0x7f1652d5ea90>"
      ]
     },
     "execution_count": 30,
     "metadata": {},
     "output_type": "execute_result"
    },
    {
     "data": {
      "image/png": "[encoded data removed]",
      "text/plain": [
       "<Figure size 432x288 with 1 Axes>"
      ]
     },
     "metadata": {
      "needs_background": "light"
     },
     "output_type": "display_data"
    }
   ],
   "source": [
    "import numpy as np\n",
    "plt.scatter(np.arange(len(accs)), accs, label = \"accuracy\")\n",
    "plt.scatter(np.arange(len(recalls)), recalls, label = \"recall\")\n",
    "plt.legend()"
   ]
  },
  {
   "cell_type": "markdown",
   "metadata": {},
   "source": [
    "To avoid slowing down the notebook, the results are shown below. \n",
    "\n",
    "\n",
    "\n",
    "\n",
    "As discussed above, only accuracy and recall are taken into account. \n",
    "Each point on the scatter plot above correponds to the accuracy or recall value of one combinations of C and gamma. The maximal recall value appears when $C = 50$ , $gamma = 1e-4$. \n",
    "\n",
    "Note: When executing the first svm code cell, you may see some UndefinedMetricWarnings. Please ignore them as the only output to care is recall value. "
   ]
  },
  {
   "cell_type": "code",
   "execution_count": 31,
   "metadata": {},
   "outputs": [
    {
     "data": {
      "image/png": "[encoded data removed]",
      "text/plain": [
       "<Figure size 288x288 with 2 Axes>"
      ]
     },
     "metadata": {
      "needs_background": "light"
     },
     "output_type": "display_data"
    }
   ],
   "source": [
    "SVC_model = svm.SVC(gamma=1e-4, C=50)\n",
    "SVC_model.fit(train_d, train_lab)\n",
    "predictions = SVC_model.predict(test_d)\n",
    "_,recall,_,_=score(test_lab, predictions,average='macro')\n",
    "\n",
    "\n",
    "confusion_matrix = metrics.confusion_matrix(test_lab, predictions)\n",
    "plt.matshow(confusion_matrix)\n",
    "plt.title('Confusion matrix')\n",
    "plt.colorbar()\n",
    "plt.ylabel('True label')\n",
    "plt.xlabel('Predicted label')\n",
    "plt.show()"
   ]
  },
  {
   "cell_type": "code",
   "execution_count": 32,
   "metadata": {},
   "outputs": [
    {
     "name": "stdout",
     "output_type": "stream",
     "text": [
      "              precision    recall  f1-score   support\n",
      "\n",
      "          No       0.81      0.91      0.86      1093\n",
      "         Yes       0.63      0.42      0.50       401\n",
      "\n",
      "    accuracy                           0.78      1494\n",
      "   macro avg       0.72      0.66      0.68      1494\n",
      "weighted avg       0.76      0.78      0.76      1494\n",
      "\n"
     ]
    }
   ],
   "source": [
    "print(metrics.classification_report(test_lab, predictions))"
   ]
  },
  {
   "cell_type": "markdown",
   "metadata": {},
   "source": [
    "__Performance__\n",
    "\n",
    "The accuracy is similar to the above techniques but the recall of \"yes\" is similar to the decision tree's results, which is amongst the highest values of results so far. \n"
   ]
  },
  {
   "cell_type": "markdown",
   "metadata": {},
   "source": [
    "[Introduction](#another_cell)|\n",
    "[Data preprocessing--Overview](#data_pre_over)|\n",
    "[EDA visualisation section 1](#eda1)|\n",
    "[Data cleaning](#data_cleaning)|\n",
    "[Processing independent and dependent variables](#xandy)|\n",
    "[EDA visualisation section 2](#eda2)|\n",
    "[splitting into training and testing set](#testandtrain)|\n",
    "[Classification1--KNN](#knn)|\n",
    "[Classification2--KNN](#dt)|\n",
    "[Classification3--KNN](#rf)|\n",
    "[Classification4--KNN](#svm)|\n",
    "[Comparison between models](#compare)|\n",
    "[Conclusion](#conclude)|\n",
    "[Bibliography](#bib)|"
   ]
  },
  {
   "cell_type": "markdown",
   "metadata": {},
   "source": [
    "<a id='compare'></a>\n",
    "#### Comparison\n",
    "\n",
    "\n",
    "|Classification Technique|Accuracy|Recall of \"Yes\"|\n",
    "|:--:|:--:|:--:|\n",
    "|K-Nearest Neighbours|0.76|0.24|\n",
    "|Decision Tree|0.73|0.51|\n",
    "|Random Forest|0.78|0.47|\n",
    "|Support Vector Machine|0.76|0.51|"
   ]
  },
  {
   "cell_type": "markdown",
   "metadata": {},
   "source": [
    "<a id='conclude'></a>\n",
    "### Conclusion\n",
    "\n",
    "In this analysis, various prediction models are applied and their performance are compared. Among K-Nearest Neighbours, Decision Tree, Random Forest and Support Vector Machine, Decision Tree and SVM should be used as the primary classification and prediction techiqnue. This is because the accuracy of different classification techniques are roughly the same, but the recall value of correctly predicting the customer churn needs to be considered with the greatest attention. Telecommunication industry suffered from high churn rate and associated loss. With a relatively high recall value, more customer churn could be predicted beforehand and managed. \n",
    "\n",
    "Although SVM achieves the highest accuracy and recall combination, existing method only reach 50% of correct prediction, still leaving 50% churn customer unrecognised. More techniques should be applied and compared to reduced business loss and keep churn rate at an acceptable and profitable level. \n",
    "\n",
    "Some other measures to reduce churn rate include conducting a regression analysis to the same dataset and identify the top factors that affect the customer churn. This could be a follow-up analysis: after identifying the users with intentions to leave the provider, the company could provide or improve the services which could keep them. \n",
    "\n",
    "Note: The results of classifications are different across each runs, so the previously-generated plots and data could be different from what you see now. "
   ]
  },
  {
   "cell_type": "markdown",
   "metadata": {},
   "source": [
    "<a id='bib'></a>\n",
    "### Bibliography\n",
    "\n",
    "[1] \n",
    "D. V. Poel and B. Larivi, \"Customer attrition analysis for financial services using proportional hazard models\", European Journal of Operational Research, vol. 157, no. 1, pp. 196-217, 2004.\n",
    "towards expansion of the subscriber base\n",
    "\n",
    "[2]\n",
    "A. Berson, S. Smith, K. Thearling. Building data mining applications for CRM, McGraw-Hill, New York, NY (2000)\n",
    "\n",
    "[3]\n",
    "Sycorax (https://stats.stackexchange.com/users/22311/sycorax), Why is RBF kernel used in SVM?, URL (version: 2016-06-29): https://stats.stackexchange.com/q/220887\n",
    "\n",
    "[4]\n",
    "Scikit-learn: Machine Learning in Python, Pedregosa et al., JMLR 12, pp. 2825-2830, 2011."
   ]
  },
  {
   "cell_type": "markdown",
   "metadata": {},
   "source": [
    "The source of data used in this analysis can be found [here](https://www.kaggle.com/radmirzosimov/telecom-users-dataset). \n",
    "\n"
   ]
  },
  {
   "cell_type": "code",
   "execution_count": null,
   "metadata": {},
   "outputs": [],
   "source": []
  }
 ],
 "metadata": {
  "kernelspec": {
   "display_name": "Python 3",
   "language": "python",
   "name": "python3"
  },
  "language_info": {
   "codemirror_mode": {
    "name": "ipython",
    "version": 3
   },
   "file_extension": ".py",
   "mimetype": "text/x-python",
   "name": "python",
   "nbconvert_exporter": "python",
   "pygments_lexer": "ipython3",
   "version": "3.7.8"
  }
 },
 "nbformat": 4,
 "nbformat_minor": 4
}
